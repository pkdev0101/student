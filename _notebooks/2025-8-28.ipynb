{
 "cells": [
  {
   "cell_type": "code",
   "execution_count": null,
   "id": "0396f167",
   "metadata": {
    "vscode": {
     "languageId": "plaintext"
    }
   },
   "outputs": [],
   "source": [
    "%%javascript\n",
    "\n",
    "var accounting_joke_list = [\n",
    "    \"Why did the accountant cross the road? To bore the people on the other side.\",\n",
    "    \"What do accountants do when they're constipated? They work it out with a pencil.\",\n",
    "    \"How does an accountant stay out of debt? He learns to act his wage.\",\n",
    "    \"Why did the accountant stare at his glass of orange juice for three hours? Because on the box it said 'concentrate'.\",\n",
    "    \"Why did the accountant get promoted? Because he knew how to balance his work and play.\",\n",
    "    \"Why did the accountant go broke? Because he lost his balance.\",\n",
    "    \"Why did the accountant get a job at the bakery? Because he was good at making dough.\",\n",
    "    \"Why did the accountant get a job at the zoo? Because he was good with cheetahs.\",\n",
    "    \"Why did the accountant get a job at the library? Because he was good at keeping books.\",\n",
    "    \"Why did the accountant get a job at the circus? Because he was good at juggling numbers.\",\n",
    "    \"Why did the accountant get a job at the gym? Because he was good at working out the numbers.\",\n",
    "    \"Why did the accountant get a job at the farm? Because he was good at counting the chickens before they hatched.\"\n",
    "]\n",
    "var randomIndex = Math.floor(Math.random() * accounting_joke_list.length);\n",
    "console.log(\"Joke #\" + (randomIndex + 1) + \": \" + accounting_joke_list[randomIndex]);"
   ]
  }
 ],
 "metadata": {
  "language_info": {
   "name": "python"
  }
 },
 "nbformat": 4,
 "nbformat_minor": 5
}
