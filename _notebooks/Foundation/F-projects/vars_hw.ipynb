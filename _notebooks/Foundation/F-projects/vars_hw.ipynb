{
 "cells": [
  {
   "cell_type": "raw",
   "id": "8bc5a172",
   "metadata": {
    "vscode": {
     "languageId": "raw"
    }
   },
   "source": [
    "---\n",
    "layout: post\n",
    "title: JavaScript Variables Homework\n",
    "description: This page will teach you the basics of variables.\n",
    "categories: ['HTML', 'JavaScript']\n",
    "permalink: /lessons/variables-hw\n",
    "---"
   ]
  },
  {
   "cell_type": "markdown",
   "id": "299f5792",
   "metadata": {},
   "source": [
    "# <span style=\"color: lavender; text-shadow: 2px 2px 5px lavender;\">Variables Homework (Show what you know!) </span>\n",
    "\n",
    "### Homework Problem: Understanding JavaScript Variables \n",
    "\n",
    "### <span style=\"color: pink; text-shadow: 2px 2px 5px pink;\"> Creating Variables</span>\n",
    "\n",
    "1. Create a variable called `name` and store your first name in it. Print it in the console.\n",
    "\n",
    "\n",
    "2. Create two variables `age` and `city`. Print them in a single sentence like:\n",
    "        - \"I am 15 years old and I live in New York.\"\n",
    "\n",
    "\n",
    "3. Create a variable `isStudent` (true/false). Print it.\n",
    "\n",
    "Part B – Numbers & Strings\n",
    "\n",
    "\n",
    "4. Create two number variables num1 = 10 and num2 = 5.\n",
    "    // Print their sum, difference, product, and quotient.\n",
    "\n",
    "\n",
    "5. Make a variable `favoriteFood` and print:\n",
    "    My favorite food is ____.\"\n",
    "\n",
    "Part C – Practice Problems\n",
    "\n",
    "\n",
    "6. Swap the values of two variables: x = 7 and y = 3.\n",
    "\n",
    "\n",
    "7. Create a variable `fullName` by joining two strings: \"FirstName\" and \"LastName\".\n",
    "\n",
    "\n",
    "8. Convert temperature C = 25 into Fahrenheit using F = (C * 9/5) + 32.\n",
    "\n",
    "\n",
    "9. Create a variable score = 85.\n",
    "    - Print \"Pass\" if score >= 50, else \"Fail\".\n",
    "\n",
    "Extra credit (optional): \n",
    "    Instead of hard coding the variable for number 9 to 85, make the variable a random number from 1-100.\n",
    "\n",
    "\n",
    "10. Write a program that asks for your name and age (use prompt)\n",
    "     and prints: \"Hello <name>, you are <age> years old.\"\n",
    "\n"
   ]
  },
  {
   "cell_type": "markdown",
   "id": "c45bc843",
   "metadata": {},
   "source": []
  }
 ],
 "metadata": {
  "language_info": {
   "name": "python"
  }
 },
 "nbformat": 4,
 "nbformat_minor": 5
}
