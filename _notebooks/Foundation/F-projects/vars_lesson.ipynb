{
 "cells": [
  {
   "cell_type": "code",
   "execution_count": null,
   "id": "7686b654",
   "metadata": {
    "vscode": {
     "languageId": "yaml"
    }
   },
   "outputs": [],
   "source": [
    "---\n",
    "layout: post\n",
    "title: JavaScript Variables Lesson\n",
    "description: This page will teach you the basics of variables.\n",
    "categories: ['HTML', 'JavaScript']\n",
    "permalink: /lessons/variables-lesson\n",
    "---"
   ]
  },
  {
   "cell_type": "markdown",
   "id": "3a92df88",
   "metadata": {},
   "source": [
    "# Variables Lesson Intro\n",
    "\n",
    "In this lesson, you will be learn the basics of variables. This includes what they are, how to use them in Javascript, and where they can be applied. Let's dive in!\n",
    "\n",
    "## Examples of Variables\n",
    "\n",
    "Here are some examples of variables in our team's wordgame:"
   ]
  },
  {
   "cell_type": "code",
   "execution_count": null,
   "id": "09f27dd6",
   "metadata": {
    "vscode": {
     "languageId": "javascript"
    }
   },
   "outputs": [],
   "source": [
    "var hello = \"Hello, I am a string.\";\n",
    "let hi = 0;\n",
    "const hey = 3.4;"
   ]
  },
  {
   "cell_type": "markdown",
   "id": "af3e5d27",
   "metadata": {},
   "source": [
    "Now let's answer the following questions:\n",
    "\n",
    "+ What do the keywords `var`, `let`, and `const` do?\n",
    "  + How are they different?\n",
    "+ What are `hi`, `hello`, and `hey`?\n",
    "+ What does the `=` symbol do?\n",
    "+ What are the values after the `=`?\n",
    "\n",
    "# Popcorn Hack 1\n",
    "\n",
    "Let's start diving into some of the quesitons. \n",
    "\n",
    "## Instructions\n",
    "\n",
    "1. In your own repository, create an HTML file. Properly adjust the frontmatter to access your site at a link you desire.\n",
    "3. Copy the following code below into the file"
   ]
  },
  {
   "cell_type": "code",
   "execution_count": null,
   "id": "fb8884c9",
   "metadata": {
    "vscode": {
     "languageId": "html"
    }
   },
   "outputs": [],
   "source": [
    "<!DOCTYPE html>\n",
    "<html>\n",
    "<head>\n",
    "  <title>My Popcorn Hack #1</title>\n",
    "</head>\n",
    "<body>\n",
    "  <h2>Variable Output</h2>\n",
    "  <div id=\"output\"></div>\n",
    "\n",
    "  <script>\n",
    "    let name = \"Alex\";\n",
    "    const age = 25;\n",
    "    var city = \"New York\";\n",
    "\n",
    "    // Change vars here\n",
    "    name = \"Bessie\";\n",
    "    //age = 2;   // What happens if you uncomment this line ???\n",
    "    city = \"Anishiapolis\";\n",
    "\n",
    "    document.getElementById(\"output\").innerText = name + \" is \" + age + \" years old and lives in \" + city + \".\";\n",
    "  </script>\n",
    "</body>\n",
    "</html>\n"
   ]
  },
  {
   "cell_type": "markdown",
   "id": "83ed5faa",
   "metadata": {},
   "source": [
    "4. Adjust var declerations, names, values, etc. \n",
    "5. Record on a sticky note: what changes did you notice?\n",
    "\n",
    "# Lesson Cont...\n",
    "\n",
    "Now since we have an initial feel for variables, let's continue our investigation into the subject.\n",
    "\n",
    "Variables can be declared by `var`, `const`, and `let`. \n",
    "**IMPORTANT**: `var` is now deprecated, so it is best practice to not use it.\n",
    "`const` REQUIRES a var to never change later. We use `let` if we want to change the var later.\n",
    "\n",
    "> Did you try removing the equal sign?\n",
    "\n",
    "Removal of the equal sign would have caused an error. the `=` symbol is what TELLS javascript that a variable is being declared and initialized. The `let` and `const` keywords are there to say what *type* of variable we are using.\n",
    "\n",
    "# Popcorn Hack 2\n",
    "\n",
    "Let's see if you can identify mistakes and possible bugs in the code others have written. For the next following code snippets, identify any problems, if any."
   ]
  },
  {
   "cell_type": "code",
   "execution_count": null,
   "id": "b42380eb",
   "metadata": {
    "vscode": {
     "languageId": "html"
    }
   },
   "outputs": [],
   "source": [
    "<!DOCTYPE html>\n",
    "<html>\n",
    "<head>\n",
    "  <title>My Popcorn Hack #1</title>\n",
    "</head>\n",
    "<body>\n",
    "  <h2>Variable Output</h2>\n",
    "  <div id=\"output\"></div>\n",
    "\n",
    "  <script>\n",
    "    let name = \"Alex\";\n",
    "    const age = 25;\n",
    "    var city = \"New York\";\n",
    "\n",
    "    // Change vars here\n",
    "    name = \"Bessie\";\n",
    "    age = 2;   // What happens if you uncomment this line ???\n",
    "    city = \"Anishiapolis\";\n",
    "\n",
    "    document.getElementById(\"output\").innerText = name + \" is \" + age + \" years old and lives in \" + city + \".\";\n",
    "  </script>\n",
    "</body>\n",
    "</html>\n"
   ]
  },
  {
   "cell_type": "code",
   "execution_count": null,
   "id": "7dba9c57",
   "metadata": {
    "vscode": {
     "languageId": "html"
    }
   },
   "outputs": [],
   "source": [
    "<!DOCTYPE html>\n",
    "<html>\n",
    "<head>\n",
    "  <title>My Popcorn Hack #1</title>\n",
    "</head>\n",
    "<body>\n",
    "  <h2>Variable Output</h2>\n",
    "  <div id=\"output\"></div>\n",
    "\n",
    "  <script>\n",
    "    let name = \"Alex\";\n",
    "    const age = 25;\n",
    "    var CITY = \"New York\";\n",
    "\n",
    "    // Change vars here\n",
    "    name = \"Bessie\";\n",
    "    //age = 2;   // What happens if you uncomment this line ???\n",
    "    city = \"Anishiapolis\";\n",
    "\n",
    "    document.getElementById(\"output\").innerText = name + \" is \" + age + \" years old and lives in \" + city + \".\";\n",
    "  </script>\n",
    "</body>\n",
    "</html>\n"
   ]
  },
  {
   "cell_type": "code",
   "execution_count": null,
   "id": "d8104710",
   "metadata": {
    "vscode": {
     "languageId": "html"
    }
   },
   "outputs": [],
   "source": [
    "<!DOCTYPE html>\n",
    "<html>\n",
    "<head>\n",
    "  <title>My Popcorn Hack #1</title>\n",
    "</head>\n",
    "<body>\n",
    "  <h2>Variable Output</h2>\n",
    "  <div id=\"output\"></div>\n",
    "\n",
    "  <script>\n",
    "    let name = \"Alex\";\n",
    "    const age = 25;\n",
    "    var city = \"New York\";\n",
    "\n",
    "    // Change vars here\n",
    "    name = \"Bessie\";\n",
    "    //age = 2;   // What happens if you uncomment this line ???\n",
    "    city = \"Anishiapolis\";\n",
    "\n",
    "    document.getElementById(\"output\").innerText = name + \" is \" + age + \" years old and lives in \" + city + \".\";\n",
    "  </script>\n",
    "</body>\n",
    "</html>\n"
   ]
  },
  {
   "cell_type": "markdown",
   "id": "8021f6fe",
   "metadata": {},
   "source": [
    "## Solutions \n",
    "\n",
    "1. `age` should be a `let` declared variable, since we are redefining it.\n",
    "2. `CITY` should be lowercase.\n",
    "3. `New York` should have quotes around it.\n",
    "\n",
    "# Ending notes\n",
    "\n",
    "Nice! You've learned about variables and used higher-level thinking skills! For our lesson's end, we will give you this cheat sheet:\n",
    "\n",
    "In a JS declaration such as this:"
   ]
  },
  {
   "cell_type": "code",
   "execution_count": null,
   "id": "379ec2eb",
   "metadata": {
    "vscode": {
     "languageId": "javascript"
    }
   },
   "outputs": [],
   "source": [
    "let var_name = \"Value\";"
   ]
  },
  {
   "cell_type": "markdown",
   "id": "e6694ac1",
   "metadata": {},
   "source": [
    "- `let` can be replaced with `const` if you aren't changing the var name later.\n",
    "- `var_name` can be replaced with any valid variable name (any alphanumeric charecter or the `_`, cannot start with a number)\n",
    "- `=` is necisarry for proper decleration\n",
    "- `\"Value\"` can be changed to any value that you want to store, wether a string or a number\n",
    "\n",
    "# Ending\n",
    "\n",
    "That's it for the lesson! Remember to try the homework as well! It should take ~30min!"
   ]
  }
 ],
 "metadata": {
  "language_info": {
   "name": "python"
  }
 },
 "nbformat": 4,
 "nbformat_minor": 5
}
