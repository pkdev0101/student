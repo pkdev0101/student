{
 "cells": [
  {
   "cell_type": "code",
   "execution_count": null,
   "id": "c0d93d55",
   "metadata": {
    "vscode": {
     "languageId": "yaml"
    }
   },
   "outputs": [],
   "source": [
    "---\n",
    "layout: post\n",
    "title: JavaScript Functions Homework\n",
    "description: This page will teach you the basics of functions.\n",
    "categories: ['HTML', 'JavaScript']\n",
    "permalink: /lessons/functions-hw\n",
    "author: Vihaan Budhraja and James Blazek\n",
    "---"
   ]
  },
  {
   "cell_type": "markdown",
   "id": "e73f7347",
   "metadata": {},
   "source": [
    "\n",
    "\n",
    "Now that you have completed your function lesson, you will be doing some homework to apply the concepts you learned.\n",
    "\n",
    "\n",
    "**Homework problem 1:**\n",
    "\n",
    "Make a function that converts a farenheit input into celsius\n",
    "\n",
    "Hint: What is the formula for converting from Farenheit to Celcius? Use the formula in your function to start the conversion.\n"
   ]
  },
  {
   "cell_type": "code",
   "execution_count": null,
   "id": "30cbc187",
   "metadata": {
    "vscode": {
     "languageId": "javascript"
    }
   },
   "outputs": [],
   "source": [
    "// Write a function named toCelsius() that takes fahrenheight as input\n",
    "\n",
    "\n"
   ]
  },
  {
   "cell_type": "markdown",
   "id": "f1788254",
   "metadata": {},
   "source": [
    "**Homework problem 2:**\n",
    "\n",
    "Make a function that describes a person (age, gender, job, height)\n",
    "\n",
    "Hint: Define variables for each description and output them in the function\n",
    "\n"
   ]
  },
  {
   "cell_type": "code",
   "execution_count": null,
   "id": "a1ec6bc1",
   "metadata": {
    "vscode": {
     "languageId": "javascript"
    }
   },
   "outputs": [],
   "source": [
    "// Use a function called PersonDesc()"
   ]
  },
  {
   "cell_type": "markdown",
   "id": "903416db",
   "metadata": {},
   "source": [
    "**Homework problem 3 (CHALLENGE):**\n",
    "\n",
    "Make a function that takes an array and chooses a random string from the array to be outputted. Your array must have atleast 5 different objects, preferably in a specific category.\n",
    "\n",
    "Ex. The array could be fruits and examples would be apple, banana, orange etc.\n"
   ]
  },
  {
   "cell_type": "code",
   "execution_count": null,
   "id": "cc0d65ea",
   "metadata": {
    "vscode": {
     "languageId": "javascript"
    }
   },
   "outputs": [],
   "source": [
    "// Use this for your random generator function"
   ]
  },
  {
   "cell_type": "markdown",
   "id": "06f7dc20",
   "metadata": {},
   "source": [
    "**Too easy?**\n",
    "**EXTRA CHALLENGE:**\n",
    "\n",
    "Make a function that randomly generates a person's description. Be creative, include things like age, job, favorite color, favorite sport, gender, ethnicity etc.\n",
    "\n",
    "Try to have atleast 10 indicators with a decent amount of options per category. Then randomly generate the whole description of the person. \n",
    "\n",
    "Ex. \n",
    "Name: John\n",
    "\n",
    "Age: 12\n",
    "\n",
    "Job: Unemployed\n",
    "\n",
    "Hair color: Purple\n",
    "\n",
    "Skin color: Neon Yellow\n",
    "\n",
    "Ethnicity: Martian\n",
    "\n",
    "Favorite Sport: Badminton\n",
    "\n",
    "Gender: Male\n",
    "\n",
    "Remember to randomly generate these from a list, so you should have many different possibilites to describe your person."
   ]
  },
  {
   "cell_type": "code",
   "execution_count": null,
   "id": "ed715b4f",
   "metadata": {
    "vscode": {
     "languageId": "javascript"
    }
   },
   "outputs": [],
   "source": [
    "// Good luck!!"
   ]
  },
  {
   "cell_type": "code",
   "execution_count": null,
   "id": "f9c96905",
   "metadata": {
    "vscode": {
     "languageId": "javascript"
    }
   },
   "outputs": [],
   "source": []
  }
 ],
 "metadata": {
  "language_info": {
   "name": "python"
  }
 },
 "nbformat": 4,
 "nbformat_minor": 5
}
