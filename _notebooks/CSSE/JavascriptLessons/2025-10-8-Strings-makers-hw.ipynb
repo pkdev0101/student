{
 "cells": [
  {
   "cell_type": "raw",
   "id": "04560c95",
   "metadata": {
    "vscode": {
     "languageId": "raw"
    }
   },
   "source": [
    "---\n",
    "layout: post\n",
    "title: Strings Homework\n",
    "description:  Strings Homework\n",
    "categories: [Javascript, Homework]\n",
    "permalink: /strings-homework\n",
    "author: Makers\n",
    "---"
   ]
  },
  {
   "cell_type": "markdown",
   "id": "905d8e89",
   "metadata": {},
   "source": [
    "<hr>\n",
    "\n",
    "# JavaScript Strings Popcorn Hacks & Homework"
   ]
  },
  {
   "cell_type": "markdown",
   "id": "5914a247",
   "metadata": {},
   "source": [
    "## Popcorn Hack #1 - Secret Password"
   ]
  },
  {
   "cell_type": "markdown",
   "id": "98fb2838",
   "metadata": {},
   "source": [
    "### Instructions:\n",
    "\n",
    "1.\tCreate three string variables named secretBase, codeWord, and symbol.\n",
    "\t•\tEach should contain text inside quotes (\" \" or ' ').\n",
    "2.\tFind the number of characters in the secretBase string.\n",
    "\t•\tUse the .length property to count how many characters are in the string.\n",
    "\t•\tStore this value in a new variable called baseLength.\n",
    "3.\tChange all the letters in the codeWord string to uppercase.\n",
    "\t•\tUse the .toUpperCase() method and store the result in a variable named fullCode.\n",
    "4.\tCombine all the strings together to reveal the full secret message.\n",
    "\t•\tUse the + operator to concatenate secretBase, fullCode, and symbol.\n",
    "\t•\tSave it to a variable named fullSecret.\n",
    "5.\tPrint your results using console.log().\n",
    "\t•\tDisplay both the string length and the full secret message in the console."
   ]
  },
  {
   "cell_type": "code",
   "execution_count": 4,
   "id": "d392cf50",
   "metadata": {
    "vscode": {
     "languageId": "javascript"
    }
   },
   "outputs": [
    {
     "data": {
      "text/html": [
       "\n",
       "<div id=\"outputPH1\">Results will appear here:<br></div>\n",
       "\n",
       "<script>\n",
       "(() => {\n",
       "    const output = document.getElementById(\"outputPH1\");\n",
       "\n",
       "    // Task 1: Create new variables\n",
       "    let secretBase = \"TopSecretBase42 \";\n",
       "    let codeWord = \"eagleEye\";\n",
       "    let symbol = \"#\";\n",
       "\n",
       "    // Task 2: Find the number of characters in secretBase\n",
       "    let baseLength = secretBase.length;\n",
       "\n",
       "    // Task 3: Change codeWord to uppercase\n",
       "    let fullCode = codeWord.toUpperCase();\n",
       "\n",
       "    // Task 4: Combine all strings\n",
       "    let fullSecret = secretBase + fullCode + symbol;\n",
       "\n",
       "    // Task 5: Output results using DOM\n",
       "    output.innerHTML += \"Number of characters in secretBase: \" + baseLength + \"<br>\";\n",
       "    output.innerHTML += \"Full secret message: \" + fullSecret + \"<br>\";\n",
       "\n",
       "    // Also log to console\n",
       "    console.log(\"Number of characters in secretBase:\", baseLength);\n",
       "    console.log(\"Full secret message:\", fullSecret);\n",
       "})();\n",
       "</script>\n"
      ],
      "text/plain": [
       "<IPython.core.display.HTML object>"
      ]
     },
     "metadata": {},
     "output_type": "display_data"
    }
   ],
   "source": [
    "%%html\n",
    "\n",
    "<div id=\"outputPH1\">Results will appear here:<br></div>\n",
    "\n",
    "<script>\n",
    "(() => {\n",
    "    const output = document.getElementById(\"outputPH1\");\n",
    "\n",
    "    // Task 1: Create new variables\n",
    "    let secretBase = \"TopSecretBase42 \";\n",
    "    let codeWord = \"eagleEye\";\n",
    "    let symbol = \"#\";\n",
    "\n",
    "    // Task 2: Find the number of characters in secretBase\n",
    "    let baseLength = secretBase.length;\n",
    "\n",
    "    // Task 3: Change codeWord to uppercase\n",
    "    let fullCode = codeWord.toUpperCase();\n",
    "\n",
    "    // Task 4: Combine all strings\n",
    "    let fullSecret = secretBase + fullCode + symbol;\n",
    "\n",
    "    // Task 5: Output results using DOM\n",
    "    output.innerHTML += \"Number of characters in secretBase: \" + baseLength + \"<br>\";\n",
    "    output.innerHTML += \"Full secret message: \" + fullSecret + \"<br>\";\n",
    "\n",
    "    // Also log to console\n",
    "    console.log(\"Number of characters in secretBase:\", baseLength);\n",
    "    console.log(\"Full secret message:\", fullSecret);\n",
    "})();\n",
    "</script>\n"
   ]
  },
  {
   "cell_type": "markdown",
   "id": "2573df28",
   "metadata": {},
   "source": [
    "<hr>\n",
    "\n",
    "## Popcorn Hack #2 - Grocery Store"
   ]
  },
  {
   "cell_type": "markdown",
   "id": "264a65e7",
   "metadata": {},
   "source": [
    "### Instructions:\n",
    "\n",
    "1.\tDefine your variables and string values\n",
    "\t•\tEach should contain text inside quotes (\" \" or ' ').\n",
    "    •\tYour variables should include: `ingredient`, `price`, and `store`.\n",
    "2.\tWrite a message using template liberals.\n",
    "\t•\tUsing mlti-line strings and interpolation, create a complex sentence writing an automated message advertising a discounted item.\n",
    "\t•\tUse backticks!!\n",
    "3.\tUse interpolation to check the amount of characters in the lesson!\n",
    "\t•\tUse `${}` and `.length` to help.\n",
    "4.\tPrint your results using console.log().\n",
    "\t•\tDisplay both the string length and the full secret message in the console."
   ]
  },
  {
   "cell_type": "code",
   "execution_count": 6,
   "id": "8c5ea064",
   "metadata": {
    "vscode": {
     "languageId": "javascript"
    }
   },
   "outputs": [
    {
     "data": {
      "text/html": [
       "\n",
       "<div id=\"outputPH2\">Results will appear here:<br></div>\n",
       "\n",
       "<script>\n",
       "(() => {\n",
       "    const output = document.getElementById(\"outputPH2\");\n",
       "\n",
       "    // Task 1: Define your variables and strings\n",
       "    let ingredient = \"Caramel Popcorn\";\n",
       "    let price = \"$3.99\";\n",
       "    let store = \"Popcorn Palace\";\n",
       "\n",
       "    // Task 2: Write the complex sentence using a template literal (backticks)\n",
       "    const snackMessage = `\n",
       "Hey Snack Lovers! 🍿\n",
       "\n",
       "Get your ${ingredient} now for just ${price} at ${store}!\n",
       "Hurry, this delicious deal won't last long!\n",
       "`;\n",
       "\n",
       "    // Task 3: Check the length of the full message\n",
       "    const messageLength = snackMessage.length;\n",
       "\n",
       "    // Task 4: Output results using DOM\n",
       "    output.innerHTML += \"The full message is \" + messageLength + \" characters long.<br>\";\n",
       "    output.innerHTML += snackMessage + \"<br>\";\n",
       "\n",
       "    // Also log to console\n",
       "    console.log(`The full message is ${messageLength} characters long.`);\n",
       "    console.log(snackMessage);\n",
       "})();\n",
       "</script>\n"
      ],
      "text/plain": [
       "<IPython.core.display.HTML object>"
      ]
     },
     "metadata": {},
     "output_type": "display_data"
    }
   ],
   "source": [
    "%%html\n",
    "\n",
    "<div id=\"outputPH2\">Results will appear here:<br></div>\n",
    "\n",
    "<script>\n",
    "(() => {\n",
    "    const output = document.getElementById(\"outputPH2\");\n",
    "\n",
    "    // Task 1: Define your variables and strings\n",
    "    let ingredient = \"Caramel Popcorn\";\n",
    "    let price = \"$3.99\";\n",
    "    let store = \"Popcorn Palace\";\n",
    "\n",
    "    // Task 2: Write the complex sentence using a template literal (backticks)\n",
    "    const snackMessage = `\n",
    "Hey Snack Lovers! 🍿\n",
    "\n",
    "Get your ${ingredient} now for just ${price} at ${store}!\n",
    "Hurry, this delicious deal won't last long!\n",
    "`;\n",
    "\n",
    "    // Task 3: Check the length of the full message\n",
    "    const messageLength = snackMessage.length;\n",
    "\n",
    "    // Task 4: Output results using DOM\n",
    "    output.innerHTML += \"The full message is \" + messageLength + \" characters long.<br>\";\n",
    "    output.innerHTML += snackMessage + \"<br>\";\n",
    "\n",
    "    // Also log to console\n",
    "    console.log(`The full message is ${messageLength} characters long.`);\n",
    "    console.log(snackMessage);\n",
    "})();\n",
    "</script>\n"
   ]
  },
  {
   "cell_type": "markdown",
   "id": "2202b84e",
   "metadata": {},
   "source": [
    "<hr>\n",
    "\n",
    "# Homework\n",
    "\n",
    "Objective: Apply string concepts (const, quotes, .length, .toUpperCase(), and template literals) to format game data.\n",
    "\n",
    "## 🏷️ Part A - String Variables & Quotes\n",
    "Create a constant variable named `UPGRADE_NAME` and assign it the string value `\"Lucky Seven\"`. Print this variable to the console.\n",
    "\n",
    "Create a variable named `cost` and assign it the number value 7777. Print this number to the console.\n",
    "\n",
    "Create a variable named `EMOJI` and assign it the emoji string value \"🍀\". \n",
    "\n",
    "Create a variable named `BUTTON_CLASS` and assign it the string value: bg-green-500 hover:bg-green-600 text-white. \n",
    "\n",
    "## 📏 Part B – Length and Modification\n",
    "Using the `UPGRADE_NAME` variable from above, create a new constant variable named `DISPLAY_NAME` that converts the name to all uppercase letters. Print `DISPLAY_NAME`.\n",
    "\n",
    "Create a constant variable named `NAME_LENGTH` that stores the total number of characters (including spaces) in the original `UPGRADE_NAME`. Print the length to the console with a label like: \"Name Character Count: [Count]\".\n",
    "\n",
    "Create a variable named message that stores the exact string below. \n",
    "\n",
    "\"Insufficient Cookies\"\n",
    "\n",
    "## ✨ Part C – Template Literal Interpolation\n",
    "Use string concatenation (the + sign) to combine the EMOJI, UPGRADE_NAME, and cost variables into the following exact output. Print the result.\n",
    "Challenge (extra credit): Use String Interpolation \n",
    "\n",
    "🍀 Lucky Seven (7777 Cookies)\n",
    "Now, rewrite the entire message from problem 8 using a template literal (backticks `) and interpolation (${}). Store the result in a new variable called shopButtonText. Print shopButtonText.\n",
    "\n",
    "The Final Message: Create a constant variable named errorDisplay that uses a template literal to combine the following three variables into one clean message: EMOJI, UPGRADE_NAME, and message.\n",
    "\n",
    "Error: 🍀 Lucky Seven purchase failed: \"Insufficient Cookies\"\n",
    "Hint: The quote marks around Insufficient Cookies must be part of the final output string.\n",
    "\n",
    "\n",
    "🌟 Extra Credit Challenge (Optional)\n",
    "Create a variable named `HINT_TEXT` that stores the following exact quote:\n",
    "The \"Lucky Seven\" upgrade multiplies your clicks by 7.\n"
   ]
  },
  {
   "cell_type": "code",
   "execution_count": 8,
   "id": "37d36636",
   "metadata": {
    "vscode": {
     "languageId": "javascript"
    }
   },
   "outputs": [
    {
     "data": {
      "text/html": [
       "\n",
       "<div id=\"outputHW\">Results will appear here:<br></div>\n",
       "\n",
       "<script>\n",
       "(() => {\n",
       "    const output = document.getElementById(\"outputHW\");\n",
       "\n",
       "    const UPGRADE_NAME = \"Lucky Seven\";\n",
       "    output.innerHTML += `UPGRADE_NAME: ${UPGRADE_NAME}<br>`;\n",
       "    console.log(\"UPGRADE_NAME:\", UPGRADE_NAME);\n",
       "\n",
       "    let cost = 7777;\n",
       "    output.innerHTML += `Cost: ${cost}<br>`;\n",
       "    console.log(\"Cost:\", cost);\n",
       "\n",
       "    let EMOJI = \"🍀\";\n",
       "    output.innerHTML += `EMOJI: ${EMOJI}<br>`;\n",
       "    console.log(\"EMOJI:\", EMOJI);\n",
       "\n",
       "    let BUTTON_CLASS = \"bg-green-500 hover:bg-green-600 text-white\";\n",
       "    output.innerHTML += `BUTTON_CLASS: ${BUTTON_CLASS}<br><br>`;\n",
       "    console.log(\"BUTTON_CLASS:\", BUTTON_CLASS);\n",
       "\n",
       "    const DISPLAY_NAME = UPGRADE_NAME.toUpperCase();\n",
       "    output.innerHTML += `DISPLAY_NAME: ${DISPLAY_NAME}<br>`;\n",
       "    console.log(\"DISPLAY_NAME:\", DISPLAY_NAME);\n",
       "\n",
       "    const NAME_LENGTH = UPGRADE_NAME.length;\n",
       "    output.innerHTML += `Name Character Count: ${NAME_LENGTH}<br>`;\n",
       "    console.log(\"Name Character Count:\", NAME_LENGTH);\n",
       "\n",
       "    let message = \"Insufficient Cookies\";\n",
       "    output.innerHTML += `Message: ${message}<br><br>`;\n",
       "    console.log(\"Message:\", message);\n",
       "\n",
       "    let concatenatedText = EMOJI + \" \" + UPGRADE_NAME + \" (\" + cost + \" Cookies)\";\n",
       "    output.innerHTML += `Concatenated Text: ${concatenatedText}<br>`;\n",
       "    console.log(\"Concatenated Text:\", concatenatedText);\n",
       "\n",
       "    let shopButtonText = `${EMOJI} ${UPGRADE_NAME} (${cost} Cookies)`;\n",
       "    output.innerHTML += `shopButtonText: ${shopButtonText}<br>`;\n",
       "    console.log(\"shopButtonText:\", shopButtonText);\n",
       "\n",
       "    const errorDisplay = `Error: ${EMOJI} ${UPGRADE_NAME} purchase failed: \"${message}\"`;\n",
       "    output.innerHTML += `errorDisplay: ${errorDisplay}<br><br>`;\n",
       "    console.log(\"errorDisplay:\", errorDisplay);\n",
       "\n",
       "    let HINT_TEXT = `The \"${UPGRADE_NAME}\" upgrade multiplies your clicks by 7.`;\n",
       "    output.innerHTML += `HINT_TEXT: ${HINT_TEXT}<br>`;\n",
       "    console.log(\"HINT_TEXT:\", HINT_TEXT);\n",
       "\n",
       "})();\n",
       "</script>\n"
      ],
      "text/plain": [
       "<IPython.core.display.HTML object>"
      ]
     },
     "metadata": {},
     "output_type": "display_data"
    }
   ],
   "source": [
    "%%html\n",
    "\n",
    "<div id=\"outputHW\">Results will appear here:<br></div>\n",
    "\n",
    "<script>\n",
    "(() => {\n",
    "    const output = document.getElementById(\"outputHW\");\n",
    "\n",
    "    const UPGRADE_NAME = \"Lucky Seven\";\n",
    "    output.innerHTML += `UPGRADE_NAME: ${UPGRADE_NAME}<br>`;\n",
    "    console.log(\"UPGRADE_NAME:\", UPGRADE_NAME);\n",
    "\n",
    "    let cost = 7777;\n",
    "    output.innerHTML += `Cost: ${cost}<br>`;\n",
    "    console.log(\"Cost:\", cost);\n",
    "\n",
    "    let EMOJI = \"🍀\";\n",
    "    output.innerHTML += `EMOJI: ${EMOJI}<br>`;\n",
    "    console.log(\"EMOJI:\", EMOJI);\n",
    "\n",
    "    let BUTTON_CLASS = \"bg-green-500 hover:bg-green-600 text-white\";\n",
    "    output.innerHTML += `BUTTON_CLASS: ${BUTTON_CLASS}<br><br>`;\n",
    "    console.log(\"BUTTON_CLASS:\", BUTTON_CLASS);\n",
    "\n",
    "    const DISPLAY_NAME = UPGRADE_NAME.toUpperCase();\n",
    "    output.innerHTML += `DISPLAY_NAME: ${DISPLAY_NAME}<br>`;\n",
    "    console.log(\"DISPLAY_NAME:\", DISPLAY_NAME);\n",
    "\n",
    "    const NAME_LENGTH = UPGRADE_NAME.length;\n",
    "    output.innerHTML += `Name Character Count: ${NAME_LENGTH}<br>`;\n",
    "    console.log(\"Name Character Count:\", NAME_LENGTH);\n",
    "\n",
    "    let message = \"Insufficient Cookies\";\n",
    "    output.innerHTML += `Message: ${message}<br><br>`;\n",
    "    console.log(\"Message:\", message);\n",
    "\n",
    "    let concatenatedText = EMOJI + \" \" + UPGRADE_NAME + \" (\" + cost + \" Cookies)\";\n",
    "    output.innerHTML += `Concatenated Text: ${concatenatedText}<br>`;\n",
    "    console.log(\"Concatenated Text:\", concatenatedText);\n",
    "\n",
    "    let shopButtonText = `${EMOJI} ${UPGRADE_NAME} (${cost} Cookies)`;\n",
    "    output.innerHTML += `shopButtonText: ${shopButtonText}<br>`;\n",
    "    console.log(\"shopButtonText:\", shopButtonText);\n",
    "\n",
    "    const errorDisplay = `Error: ${EMOJI} ${UPGRADE_NAME} purchase failed: \"${message}\"`;\n",
    "    output.innerHTML += `errorDisplay: ${errorDisplay}<br><br>`;\n",
    "    console.log(\"errorDisplay:\", errorDisplay);\n",
    "\n",
    "    let HINT_TEXT = `The \"${UPGRADE_NAME}\" upgrade multiplies your clicks by 7.`;\n",
    "    output.innerHTML += `HINT_TEXT: ${HINT_TEXT}<br>`;\n",
    "    console.log(\"HINT_TEXT:\", HINT_TEXT);\n",
    "\n",
    "})();\n",
    "</script>\n"
   ]
  }
 ],
 "metadata": {
  "kernelspec": {
   "display_name": "venv",
   "language": "python",
   "name": "python3"
  },
  "language_info": {
   "codemirror_mode": {
    "name": "ipython",
    "version": 3
   },
   "file_extension": ".py",
   "mimetype": "text/x-python",
   "name": "python",
   "nbconvert_exporter": "python",
   "pygments_lexer": "ipython3",
   "version": "3.13.7"
  }
 },
 "nbformat": 4,
 "nbformat_minor": 5
}
