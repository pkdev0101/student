{
 "cells": [
  {
   "cell_type": "raw",
   "id": "e90135fa",
   "metadata": {
    "vscode": {
     "languageId": "raw"
    }
   },
   "source": [
    "---\n",
    "toc: True\n",
    "layout: post\n",
    "data: tools\n",
    "title: Varclasses\n",
    "description: Teaching Variables and Classes\n",
    "permalink: /csse/fall_2025/javascript/classes-and-variables/hw\n",
    "---"
   ]
  },
  {
   "cell_type": "markdown",
   "id": "12325025",
   "metadata": {},
   "source": [
    "## POPCORN HACK 1 A short program about variables\n"
   ]
  },
  {
   "cell_type": "code",
   "execution_count": null,
   "id": "cd165c29",
   "metadata": {
    "vscode": {
     "languageId": "html"
    }
   },
   "outputs": [
    {
     "data": {
      "text/html": [
       "\n",
       "<div>\n",
       "  <h3>🎉 Variable Program Output</h3>\n",
       "  <pre id=\"varOutput\">Results will appear below:</pre>\n",
       "</div>\n",
       "\n",
       "<script>\n",
       "(() => {\n",
       "\n",
       "  function writeOutput(msg) {\n",
       "    console.log(msg);\n",
       "    document.getElementById(\"varOutput\").innerText += \"\\n\" + msg;\n",
       "  }\n",
       "\n",
       "  // Step 1: Make some variables\n",
       "  let myName = \"Pranay\";\n",
       "  let age = 14;\n",
       "\n",
       "  // Step 2: Print a message\n",
       "  writeOutput(\"Hey there! I'm \" + myName + \".\");\n",
       "  writeOutput(\"Right now, I'm \" + age + \" years old.\");\n",
       "\n",
       "  // Step 3: Make a variable for next year's age\n",
       "  let nextYearAge = age + 1;\n",
       "\n",
       "  // Step 4: Print out the result\n",
       "  writeOutput(\"This year, I’ll be \" + nextYearAge + \" years old — can’t wait!\");\n",
       "\n",
       "  // Step 5: Add a fun bonus message\n",
       "  writeOutput(\"Fun fact: \" + myName + \" is learning JavaScript and crushing it 🚀\");\n",
       "\n",
       "})();\n",
       "</script>\n"
      ],
      "text/plain": [
       "<IPython.core.display.HTML object>"
      ]
     },
     "metadata": {},
     "output_type": "display_data"
    }
   ],
   "source": [
    "%%html\n",
    "\n",
    "<div>\n",
    "  <h3>🎉 Variable Program Output</h3>\n",
    "  <pre id=\"varOutput\">Results will appear below:</pre>\n",
    "</div>\n",
    "\n",
    "<script>\n",
    "(() => {\n",
    "\n",
    "  function writeOutput(msg) {\n",
    "    console.log(msg);\n",
    "    document.getElementById(\"varOutput\").innerText += \"\\n\" + msg;\n",
    "  }\n",
    "\n",
    "  let myName = \"Pranay\";\n",
    "  let age = 14;\n",
    "\n",
    "  writeOutput(\"Hey there! I'm \" + myName + \".\");\n",
    "  writeOutput(\"Right now, I'm \" + age + \" years old.\");\n",
    "\n",
    "  let nextYearAge = age + 1;\n",
    "\n",
    "  writeOutput(\"This year, I’ll be \" + nextYearAge + \" years old — can’t wait!\");\n",
    "\n",
    "  writeOutput(\"Fun fact: \" + myName + \" is learning JavaScript and crushing it 🚀\");\n",
    "\n",
    "})();\n",
    "</script>\n"
   ]
  },
  {
   "cell_type": "markdown",
   "id": "8b9b8297",
   "metadata": {},
   "source": [
    "## POPCORN HACK 2 A short program about classes\n"
   ]
  },
  {
   "cell_type": "code",
   "execution_count": null,
   "id": "90501500",
   "metadata": {
    "vscode": {
     "languageId": "javascript"
    }
   },
   "outputs": [
    {
     "data": {
      "text/html": [
       "\n",
       "<div>\n",
       "  <h3>🐾 Popcorn Hack 2 — Interactive Zoo</h3>\n",
       "  <p>Click a button to hear from an animal!</p>\n",
       "  <button id=\"dogBtn\">🐶 Talk to Bolt</button>\n",
       "  <button id=\"catBtn\">🐱 Talk to Whiskers</button>\n",
       "  <button id=\"parrotBtn\">🦜 Talk to Kiwi</button>\n",
       "  <pre id=\"ph2Output\">Results will appear below:</pre>\n",
       "</div>\n",
       "\n",
       "<script>\n",
       "(() => {\n",
       "\n",
       "  function writeOutput(msg) {\n",
       "    console.log(msg);\n",
       "    document.getElementById(\"ph2Output\").innerText += \"\\n\" + msg;\n",
       "  }\n",
       "\n",
       "  // Define Animal class\n",
       "  class Animal {\n",
       "    constructor(name, sound, kind) {\n",
       "      this.name = name;\n",
       "      this.sound = sound;\n",
       "      this.kind = kind;\n",
       "    }\n",
       "\n",
       "    speak() {\n",
       "      writeOutput(`${this.name} the ${this.kind} says \"${this.sound}!\"`);\n",
       "    }\n",
       "\n",
       "    describe() {\n",
       "      writeOutput(`${this.name} is a ${this.kind} and is super friendly 🐾`);\n",
       "    }\n",
       "  }\n",
       "\n",
       "  // Create animals\n",
       "  const bolt = new Animal(\"Bolt\", \"Woof\", \"Dog\");\n",
       "  const whiskers = new Animal(\"Whiskers\", \"Meow\", \"Cat\");\n",
       "  const kiwi = new Animal(\"Kiwi\", \"Squawk\", \"Parrot\");\n",
       "\n",
       "  // Add event listeners to buttons\n",
       "  document.getElementById(\"dogBtn\").addEventListener(\"click\", () => {\n",
       "    writeOutput(\"\\n🐶 You clicked Bolt!\");\n",
       "    bolt.speak();\n",
       "    bolt.describe();\n",
       "  });\n",
       "\n",
       "  document.getElementById(\"catBtn\").addEventListener(\"click\", () => {\n",
       "    writeOutput(\"\\n🐱 You clicked Whiskers!\");\n",
       "    whiskers.speak();\n",
       "    whiskers.describe();\n",
       "  });\n",
       "\n",
       "  document.getElementById(\"parrotBtn\").addEventListener(\"click\", () => {\n",
       "    writeOutput(\"\\n🦜 You clicked Kiwi!\");\n",
       "    kiwi.speak();\n",
       "    kiwi.describe();\n",
       "  });\n",
       "\n",
       "})();\n",
       "</script>\n"
      ],
      "text/plain": [
       "<IPython.core.display.HTML object>"
      ]
     },
     "metadata": {},
     "output_type": "display_data"
    }
   ],
   "source": [
    "%%html\n",
    "\n",
    "<div>\n",
    "  <h3>🐾 Popcorn Hack 2 — Interactive Zoo</h3>\n",
    "  <p>Click a button to hear from an animal!</p>\n",
    "  <button id=\"dogBtn\">🐶 Talk to Bolt</button>\n",
    "  <button id=\"catBtn\">🐱 Talk to Whiskers</button>\n",
    "  <button id=\"parrotBtn\">🦜 Talk to Kiwi</button>\n",
    "  <pre id=\"ph2Output\">Results will appear below:</pre>\n",
    "</div>\n",
    "\n",
    "<script>\n",
    "(() => {\n",
    "\n",
    "  function writeOutput(msg) {\n",
    "    console.log(msg);\n",
    "    document.getElementById(\"ph2Output\").innerText += \"\\n\" + msg;\n",
    "  }\n",
    "\n",
    "  class Animal {\n",
    "    constructor(name, sound, kind) {\n",
    "      this.name = name;\n",
    "      this.sound = sound;\n",
    "      this.kind = kind;\n",
    "    }\n",
    "\n",
    "    speak() {\n",
    "      writeOutput(`${this.name} the ${this.kind} says \"${this.sound}!\"`);\n",
    "    }\n",
    "\n",
    "    describe() {\n",
    "      writeOutput(`${this.name} is a ${this.kind} and is super friendly 🐾`);\n",
    "    }\n",
    "  }\n",
    "\n",
    "  const bolt = new Animal(\"Bolt\", \"Woof\", \"Dog\");\n",
    "  const whiskers = new Animal(\"Whiskers\", \"Meow\", \"Cat\");\n",
    "  const kiwi = new Animal(\"Kiwi\", \"Squawk\", \"Parrot\");\n",
    "\n",
    "  document.getElementById(\"dogBtn\").addEventListener(\"click\", () => {\n",
    "    writeOutput(\"\\n🐶 You clicked Bolt!\");\n",
    "    bolt.speak();\n",
    "    bolt.describe();\n",
    "  });\n",
    "\n",
    "  document.getElementById(\"catBtn\").addEventListener(\"click\", () => {\n",
    "    writeOutput(\"\\n🐱 You clicked Whiskers!\");\n",
    "    whiskers.speak();\n",
    "    whiskers.describe();\n",
    "  });\n",
    "\n",
    "  document.getElementById(\"parrotBtn\").addEventListener(\"click\", () => {\n",
    "    writeOutput(\"\\n🦜 You clicked Kiwi!\");\n",
    "    kiwi.speak();\n",
    "    kiwi.describe();\n",
    "  });\n",
    "\n",
    "})();\n",
    "</script>\n"
   ]
  },
  {
   "cell_type": "markdown",
   "id": "efc35c8b",
   "metadata": {},
   "source": [
    "## Homework"
   ]
  },
  {
   "cell_type": "code",
   "execution_count": null,
   "id": "c47afda8",
   "metadata": {
    "vscode": {
     "languageId": "javascript"
    }
   },
   "outputs": [
    {
     "data": {
      "text/html": [
       "\n",
       "<div>\n",
       "  <h3>✊🖐️✌️ Rock Paper Scissors Game</h3>\n",
       "  <p>Click your choice to play against the computer!</p>\n",
       "\n",
       "  <button id=\"rockBtn\">✊ Rock</button>\n",
       "  <button id=\"paperBtn\">🖐️ Paper</button>\n",
       "  <button id=\"scissorsBtn\">✌️ Scissors</button>\n",
       "  <button id=\"clearBtn\">🧹 Clear Output</button>\n",
       "\n",
       "  <pre id=\"rpsOutput\">Results will appear below:</pre>\n",
       "</div>\n",
       "\n",
       "<script>\n",
       "(() => {\n",
       "\n",
       "  function writeOutput(msg) {\n",
       "    console.log(msg);\n",
       "    document.getElementById(\"rpsOutput\").innerText += \"\\n\" + msg;\n",
       "  }\n",
       "\n",
       "  // Step 1: Define possible choices\n",
       "  const choices = [\"rock\", \"paper\", \"scissors\"];\n",
       "\n",
       "  // Step 2: Function to play one round\n",
       "  function playRound(userChoice) {\n",
       "    const computerChoice = choices[Math.floor(Math.random() * choices.length)];\n",
       "    writeOutput(\"\\n🧍 You chose: \" + userChoice);\n",
       "    writeOutput(\"💻 Computer chose: \" + computerChoice);\n",
       "\n",
       "    if (userChoice === computerChoice) {\n",
       "      writeOutput(\"🤝 It's a tie!\");\n",
       "    } else if (\n",
       "      (userChoice === \"rock\" && computerChoice === \"scissors\") ||\n",
       "      (userChoice === \"scissors\" && computerChoice === \"paper\") ||\n",
       "      (userChoice === \"paper\" && computerChoice === \"rock\")\n",
       "    ) {\n",
       "      writeOutput(\"🏆 You win this round!\");\n",
       "    } else {\n",
       "      writeOutput(\"😢 You lose this round!\");\n",
       "    }\n",
       "  }\n",
       "\n",
       "  // Step 3: Add event listeners for user choices\n",
       "  document.getElementById(\"rockBtn\").addEventListener(\"click\", () => playRound(\"rock\"));\n",
       "  document.getElementById(\"paperBtn\").addEventListener(\"click\", () => playRound(\"paper\"));\n",
       "  document.getElementById(\"scissorsBtn\").addEventListener(\"click\", () => playRound(\"scissors\"));\n",
       "\n",
       "  // Step 4: Add clear output functionality\n",
       "  document.getElementById(\"clearBtn\").addEventListener(\"click\", () => {\n",
       "    document.getElementById(\"rpsOutput\").innerText = \"Results will appear below:\";\n",
       "  });\n",
       "\n",
       "})();\n",
       "</script>\n"
      ],
      "text/plain": [
       "<IPython.core.display.HTML object>"
      ]
     },
     "metadata": {},
     "output_type": "display_data"
    }
   ],
   "source": [
    "%%html\n",
    "\n",
    "<div>\n",
    "  <h3>✊🖐️✌️ Rock Paper Scissors Game</h3>\n",
    "  <p>Click your choice to play against the computer!</p>\n",
    "\n",
    "  <button id=\"rockBtn\">✊ Rock</button>\n",
    "  <button id=\"paperBtn\">🖐️ Paper</button>\n",
    "  <button id=\"scissorsBtn\">✌️ Scissors</button>\n",
    "  <button id=\"clearBtn\">🧹 Clear Output</button>\n",
    "\n",
    "  <pre id=\"rpsOutput\">Results will appear below:</pre>\n",
    "</div>\n",
    "\n",
    "<script>\n",
    "(() => {\n",
    "\n",
    "  function writeOutput(msg) {\n",
    "    console.log(msg);\n",
    "    document.getElementById(\"rpsOutput\").innerText += \"\\n\" + msg;\n",
    "  }\n",
    "\n",
    "  const choices = [\"rock\", \"paper\", \"scissors\"];\n",
    "\n",
    "  function playRound(userChoice) {\n",
    "    const computerChoice = choices[Math.floor(Math.random() * choices.length)];\n",
    "    writeOutput(\"\\n🧍 You chose: \" + userChoice);\n",
    "    writeOutput(\"💻 Computer chose: \" + computerChoice);\n",
    "\n",
    "    if (userChoice === computerChoice) {\n",
    "      writeOutput(\"🤝 It's a tie!\");\n",
    "    } else if (\n",
    "      (userChoice === \"rock\" && computerChoice === \"scissors\") ||\n",
    "      (userChoice === \"scissors\" && computerChoice === \"paper\") ||\n",
    "      (userChoice === \"paper\" && computerChoice === \"rock\")\n",
    "    ) {\n",
    "      writeOutput(\"🏆 You win this round!\");\n",
    "    } else {\n",
    "      writeOutput(\"😢 You lose this round!\");\n",
    "    }\n",
    "  }\n",
    "\n",
    "  document.getElementById(\"rockBtn\").addEventListener(\"click\", () => playRound(\"rock\"));\n",
    "  document.getElementById(\"paperBtn\").addEventListener(\"click\", () => playRound(\"paper\"));\n",
    "  document.getElementById(\"scissorsBtn\").addEventListener(\"click\", () => playRound(\"scissors\"));\n",
    "\n",
    "  document.getElementById(\"clearBtn\").addEventListener(\"click\", () => {\n",
    "    document.getElementById(\"rpsOutput\").innerText = \"Results will appear below:\";\n",
    "  });\n",
    "\n",
    "})();\n",
    "</script>\n"
   ]
  },
  {
   "cell_type": "markdown",
   "id": "b0c99301",
   "metadata": {},
   "source": [
    "## Submission!"
   ]
  },
  {
   "cell_type": "markdown",
   "id": "2c838d30",
   "metadata": {},
   "source": [
    "https://forms.gle/2aPP6CXFdQnNaE7GA"
   ]
  }
 ],
 "metadata": {
  "kernelspec": {
   "display_name": "venv",
   "language": "python",
   "name": "python3"
  },
  "language_info": {
   "codemirror_mode": {
    "name": "ipython",
    "version": 3
   },
   "file_extension": ".py",
   "mimetype": "text/x-python",
   "name": "python",
   "nbconvert_exporter": "python",
   "pygments_lexer": "ipython3",
   "version": "3.13.7"
  }
 },
 "nbformat": 4,
 "nbformat_minor": 5
}
