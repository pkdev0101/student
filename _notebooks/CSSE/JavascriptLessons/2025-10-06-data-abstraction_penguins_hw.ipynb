{
 "cells": [
  {
   "cell_type": "raw",
   "id": "244ca838",
   "metadata": {
    "vscode": {
     "languageId": "raw"
    }
   },
   "source": [
    "---\n",
    "layout: post\n",
    "title: Penguins - Data Abstraction Homework\n",
    "permalink: /javascript/data-abstraction/penguins-hw\n",
    "description: Penguins group data abstraction lesson homework\n",
    "category: [JavaScript]\n",
    "author: Jonah Larsson, Aarush Bandi, Sri Rohit Varma Datla\n",
    "---"
   ]
  },
  {
   "cell_type": "markdown",
   "id": "4e3ab516",
   "metadata": {},
   "source": [
    "# Penguins JS Lessons\n",
    "\n",
    "<a href=\"https://github.com/Open-Coding-Society/pages/blob/main/_notebooks/CSSE/JavaScriptLessons/Data_Abstractions/2025-10-06-data-abstraction_penguins_hw.ipynb\" download><b>Download Homework</b></a> <br/>\n",
    "<a href=\"https://docs.google.com/forms/d/e/1FAIpQLSfwgZR0QYAg_uYuZ7XqqEm-xlU0-gZFE2dtgnKEe5kH7Yp0Vg/viewform?usp=sharing&ouid=105179298243342263196\"><b>Submission Google Form for Homework</b></a>\n",
    "\n",
    "## **Data Abstraction Homework**\n",
    "In order to learn this subject of programming well, you have to practice:\n",
    "\n",
    "> Popcorn hack 1: Data Abstraction with functions\n",
    "\n",
    "> Popcorn hack 2: Data abstraction with classes\n",
    "\n",
    "> Final Task: Building a player system using classes and functions\n",
    "\n",
    "---"
   ]
  },
  {
   "cell_type": "markdown",
   "id": "ae486711",
   "metadata": {},
   "source": [
    "## <b>Popcorn Hack 1 (Progress Check)</b>\n",
    "\n",
    "Data abstraction with functions:\n",
    "\n",
    "**Part 1:** Edit the `Account()` function to print out the username and password to the console using console.log().\n",
    "\n",
    "**Part 2:** Edit the `ChangeUsername()` function to accept a `newUsername` parameter, then set the `username` variable to the `newUsername` parameter.\n",
    "\n",
    "**Part 3:** Edit the `ChangePassword()` function to accept a `newPassword` parameter, then set the `password` variable to the `newPassword` parameter.\n",
    "\n",
    "**Part 4:** Make the `Login()` function check if the parameters `_username` and `_password` are equal to the `username` and `password` variables, then print out if the login succeeded or failed using console.log()."
   ]
  },
  {
   "cell_type": "code",
   "execution_count": 4,
   "id": "ef977706",
   "metadata": {
    "vscode": {
     "languageId": "javascript"
    }
   },
   "outputs": [
    {
     "data": {
      "text/html": [
       "\n",
       "<div>\n",
       "  <h3>💻 Popcorn Hack 1 - Account Functions</h3>\n",
       "  <pre id=\"varOutput\">Results will appear below:</pre>\n",
       "</div>\n",
       "\n",
       "<script>\n",
       "(() => {\n",
       "\n",
       "  function writeOutput(msg) {\n",
       "    console.log(msg);\n",
       "    document.getElementById(\"varOutput\").innerText += \"\\n\" + msg;\n",
       "  }\n",
       "\n",
       "  let username = \"Giuseppe\";\n",
       "  let password = \"giuseppe_very_awesome_password\";\n",
       "\n",
       "  // part 1\n",
       "  function Account() {\n",
       "    writeOutput(\"Username: \" + username);\n",
       "    writeOutput(\"Password: \" + password);\n",
       "  }\n",
       "\n",
       "  // part 2\n",
       "  function ChangeUsername(newUsername) {\n",
       "    username = newUsername;\n",
       "    writeOutput(\"Username changed to: \" + username);\n",
       "  }\n",
       "\n",
       "  // part 3\n",
       "  function ChangePassword(newPassword) {\n",
       "    password = newPassword;\n",
       "    writeOutput(\"Password changed to: \" + password);\n",
       "  }\n",
       "\n",
       "  // part 4\n",
       "  function Login(_username, _password) {\n",
       "    if (_username === username && _password === password) {\n",
       "      writeOutput(\"Login successful! ✅\");\n",
       "      return true;\n",
       "    } else {\n",
       "      writeOutput(\"Login failed! ❌\");\n",
       "      return false;\n",
       "    }\n",
       "  }\n",
       "\n",
       "  // test code\n",
       "  Account();\n",
       "  ChangeUsername(\"Gio\");\n",
       "  ChangePassword(\"new_secure_pass123\");\n",
       "  Login(\"Gio\", \"new_secure_pass123\");\n",
       "  Login(\"Giuseppe\", \"wrongpass\");\n",
       "\n",
       "})();\n",
       "</script>\n"
      ],
      "text/plain": [
       "<IPython.core.display.HTML object>"
      ]
     },
     "metadata": {},
     "output_type": "display_data"
    }
   ],
   "source": [
    "%%html\n",
    "\n",
    "<div>\n",
    "  <h3>💻 Popcorn Hack 1 - Account Functions</h3>\n",
    "  <pre id=\"varOutput\">Results will appear below:</pre>\n",
    "</div>\n",
    "\n",
    "<script>\n",
    "(() => {\n",
    "\n",
    "  function writeOutput(msg) {\n",
    "    console.log(msg);\n",
    "    document.getElementById(\"varOutput\").innerText += \"\\n\" + msg;\n",
    "  }\n",
    "\n",
    "  let username = \"Giuseppe\";\n",
    "  let password = \"giuseppe_very_awesome_password\";\n",
    "\n",
    "  // part 1\n",
    "  function Account() {\n",
    "    writeOutput(\"Username: \" + username);\n",
    "    writeOutput(\"Password: \" + password);\n",
    "  }\n",
    "\n",
    "  // part 2\n",
    "  function ChangeUsername(newUsername) {\n",
    "    username = newUsername;\n",
    "    writeOutput(\"Username changed to: \" + username);\n",
    "  }\n",
    "\n",
    "  // part 3\n",
    "  function ChangePassword(newPassword) {\n",
    "    password = newPassword;\n",
    "    writeOutput(\"Password changed to: \" + password);\n",
    "  }\n",
    "\n",
    "  // part 4\n",
    "  function Login(_username, _password) {\n",
    "    if (_username === username && _password === password) {\n",
    "      writeOutput(\"Login successful! ✅\");\n",
    "      return true;\n",
    "    } else {\n",
    "      writeOutput(\"Login failed! ❌\");\n",
    "      return false;\n",
    "    }\n",
    "  }\n",
    "\n",
    "  // test code\n",
    "  Account();\n",
    "  ChangeUsername(\"Gio\");\n",
    "  ChangePassword(\"new_secure_pass123\");\n",
    "  Login(\"Gio\", \"new_secure_pass123\");\n",
    "  Login(\"Giuseppe\", \"wrongpass\");\n",
    "\n",
    "})();\n",
    "</script>\n"
   ]
  },
  {
   "cell_type": "markdown",
   "id": "a45fb3f1",
   "metadata": {},
   "source": [
    "---\n",
    "\n",
    "## <b>Popcorn Hack 2 (Progress Check)</b>\n",
    "\n",
    "Use the examples provided in the lesson if you're stuck.\n",
    "\n",
    "**Part 1:** Make a class named `House`\n",
    "\n",
    "**Part 2:** Make a constructor for the `House` class with the parameters cost, age, and size\n",
    "\n",
    "**Part 3:** Make an instance of the House class with the name myHouse and fill the parameters with any numbers you want.\n",
    "\n",
    "Write your code down here:"
   ]
  },
  {
   "cell_type": "code",
   "execution_count": 7,
   "id": "bb7a40cf",
   "metadata": {
    "vscode": {
     "languageId": "javascript"
    }
   },
   "outputs": [
    {
     "data": {
      "text/html": [
       "\n",
       "<html>\n",
       "<body>\n",
       "  <h2>Popcorn Hack 2 Output</h2>\n",
       "  <div id=\"output2\"></div>\n",
       "\n",
       "  <script>\n",
       "  (() => {\n",
       "\n",
       "    // Part 1: Make a class named House\n",
       "    class House {\n",
       "      // Part 2: Constructor with cost, age, and size\n",
       "      constructor(cost, age, size) {\n",
       "        this.cost = cost;\n",
       "        this.age = age;\n",
       "        this.size = size;\n",
       "      }\n",
       "    }\n",
       "\n",
       "    // Part 3: Create an instance of the class\n",
       "    let myHouse = new House(350000, 10, 2200);\n",
       "\n",
       "    // Display results on the page\n",
       "    document.getElementById(\"output2\").innerText =\n",
       "      \"🏡 My House Details:\\n\" +\n",
       "      \"Cost: $\" + myHouse.cost + \"\\n\" +\n",
       "      \"Age: \" + myHouse.age + \" years\\n\" +\n",
       "      \"Size: \" + myHouse.size + \" sq ft\";\n",
       "\n",
       "    // Log results to console\n",
       "    console.log(\"House Cost: $\" + myHouse.cost);\n",
       "    console.log(\"House Age: \" + myHouse.age + \" years\");\n",
       "    console.log(\"House Size: \" + myHouse.size + \" sq ft\");\n",
       "\n",
       "  })();\n",
       "  </script>\n",
       "</body>\n",
       "</html>\n"
      ],
      "text/plain": [
       "<IPython.core.display.HTML object>"
      ]
     },
     "metadata": {},
     "output_type": "display_data"
    }
   ],
   "source": [
    "%%html\n",
    "\n",
    "<html>\n",
    "<body>\n",
    "  <h2>Popcorn Hack 2 Output</h2>\n",
    "  <div id=\"output2\"></div>\n",
    "\n",
    "  <script>\n",
    "  (() => {\n",
    "\n",
    "    // Part 1: Make a class named House\n",
    "    class House {\n",
    "      // Part 2: Constructor with cost, age, and size\n",
    "      constructor(cost, age, size) {\n",
    "        this.cost = cost;\n",
    "        this.age = age;\n",
    "        this.size = size;\n",
    "      }\n",
    "    }\n",
    "\n",
    "    // Part 3: Create an instance of the class\n",
    "    let myHouse = new House(350000, 10, 2200);\n",
    "\n",
    "    // Display results on the page\n",
    "    document.getElementById(\"output2\").innerText =\n",
    "      \"🏡 My House Details:\\n\" +\n",
    "      \"Cost: $\" + myHouse.cost + \"\\n\" +\n",
    "      \"Age: \" + myHouse.age + \" years\\n\" +\n",
    "      \"Size: \" + myHouse.size + \" sq ft\";\n",
    "\n",
    "    // Log results to console\n",
    "    console.log(\"House Cost: $\" + myHouse.cost);\n",
    "    console.log(\"House Age: \" + myHouse.age + \" years\");\n",
    "    console.log(\"House Size: \" + myHouse.size + \" sq ft\");\n",
    "\n",
    "  })();\n",
    "  </script>\n",
    "</body>\n",
    "</html>\n"
   ]
  },
  {
   "cell_type": "markdown",
   "id": "de48f604",
   "metadata": {},
   "source": [
    "---\n",
    "\n",
    "## <b>Final task</b>\n",
    "\n",
    "**Part 1:** Create 2 variables in the constructor like this: this.variableName = something. \n",
    "These variables will be called: `this.positionX`, `this.velocityX`.\n",
    "\n",
    "**Part 2:** Create 2 methods called `MoveLeft()` and `MoveRight()`, <br>\n",
    "inside MoveLeft() set 'this.velocityX' to -200. <br>\n",
    "inside MoveRight() set 'this.velocityX' to 200.\n",
    "\n",
    "**Part 3:** Create a function called `UpdatePosition()`. Inside this function, add 'this.velocityX' to 'this.positionX'\n",
    "\n",
    "**Part 4:** Call each method (MoveLeft(), MoveRight(), UpdatePosition() ), on the player object."
   ]
  },
  {
   "cell_type": "code",
   "execution_count": null,
   "id": "81c4882b",
   "metadata": {
    "vscode": {
     "languageId": "javascript"
    }
   },
   "outputs": [],
   "source": [
    "// final task code goes here:\n",
    "\n",
    "class Player\n",
    "{\n",
    "\t// part 1\n",
    "\tconstructor()\n",
    "\t{\n",
    "\n",
    "\t}\n",
    "\n",
    "\t// part 2\n",
    "\n",
    "\n",
    "\t// part 3\n",
    "}\n",
    "\n",
    "// part 4\n",
    "let player = new Player;\n",
    "\n",
    "// call the functions on player here:\n"
   ]
  },
  {
   "cell_type": "markdown",
   "id": "7042352e",
   "metadata": {},
   "source": [
    "---\n",
    "\n",
    "<b>Grading</b>\n",
    "\n",
    "Popcorn Hack 1: Completion gives 0.2 points.<br/><br/>\n",
    "Popcorn Hack 2: Completion gives 0.3 points.<br/><br/>\n",
    "\n",
    "Final Task: Completion gives 0.5 points. Max of 0.02 extra points from extra work relevant to the subject or finishing assignment in a way that shows exceptional comprehension of the lesson.\n",
    "\n",
    "<br>\n",
    "<b><u>Make sure to submit your homework deployed link onto the global homework submission google sheet</u><b>\n",
    "\n",
    "<a href=\"https://docs.google.com/forms/d/e/1FAIpQLSfwgZR0QYAg_uYuZ7XqqEm-xlU0-gZFE2dtgnKEe5kH7Yp0Vg/viewform?usp=sharing&ouid=105179298243342263196\"><b>Submission Google Form for Homework</b></a>"
   ]
  }
 ],
 "metadata": {
  "kernelspec": {
   "display_name": "venv",
   "language": "python",
   "name": "python3"
  },
  "language_info": {
   "codemirror_mode": {
    "name": "ipython",
    "version": 3
   },
   "file_extension": ".py",
   "mimetype": "text/x-python",
   "name": "python",
   "nbconvert_exporter": "python",
   "pygments_lexer": "ipython3",
   "version": "3.13.7"
  }
 },
 "nbformat": 4,
 "nbformat_minor": 5
}
