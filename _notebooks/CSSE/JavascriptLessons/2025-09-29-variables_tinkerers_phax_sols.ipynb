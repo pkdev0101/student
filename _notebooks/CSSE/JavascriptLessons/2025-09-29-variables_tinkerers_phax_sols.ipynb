{
 "cells": [
  {
   "cell_type": "raw",
   "id": "8b2129e5",
   "metadata": {
    "vscode": {
     "languageId": "raw"
    }
   },
   "source": [
    "---\n",
    "layout: post\n",
    "toc: True\n",
    "breadcrumb: True\n",
    "title: JS Variables Popcorn Hacks Solutions\n",
    "description: Solutions to the JS Functions popcorn hacks.\n",
    "permalink: /csse/javascript/fundamentals/variables-phax-sols\n",
    "author: Samarth H, Anish G, Krish K, Pranay K\n",
    "---\n"
   ]
  },
  {
   "cell_type": "markdown",
   "id": "1be18150",
   "metadata": {},
   "source": [
    "<style>\n",
    ".glowing-text {\n",
    "  color: #fff; /* Set the text color to white or a light color for better contrast */\n",
    "  text-shadow: 0 0 10px #8a2be2, /* Purple glow */\n",
    "               0 0 20px #8a2be2, /* Deeper purple glow */\n",
    "               0 0 30px #4169e1, /* Blue glow */\n",
    "               0 0 40px #4169e1; /* Deeper blue glow */\n",
    "\n",
    "  font-weight: bold;\n",
    "  margin-top: 0;\n",
    "}\n",
    "</style>\n",
    "\n",
    "Presented by the\n",
    "<h4 class=\"glowing-text\">TINKERERS</h4>\n",
    "\n",
    "<hr>\n",
    "\n",
    "# <div style=\"font-weight:bold; text-decoration:underline;\">Popcorn Hack 1 SOLUTIONS🍿😈</div>"
   ]
  },
  {
   "cell_type": "code",
   "execution_count": 15,
   "id": "dccfd3fe",
   "metadata": {
    "vscode": {
     "languageId": "html"
    }
   },
   "outputs": [
    {
     "data": {
      "text/html": [
       "\n",
       "<html>\n",
       "<body>\n",
       "  <h2>Popcorn Hack 1 Output</h2>\n",
       "  <div id=\"output1\"></div>\n",
       "\n",
       "  <script>\n",
       "    (() => {\n",
       "\n",
       "        let name = \"Alex\";\n",
       "        const age = 25;\n",
       "\n",
       "        // In practice, you shouldn't use var. This is just for the purposes of teaching :)\n",
       "        var city = \"New York\"; \n",
       "        let hobby = \"painting\";\n",
       "\n",
       "        // Change vars here\n",
       "        name = \"Bessie\";\n",
       "        //age = 2;   // Uncommenting this line raised an ERROR as you can't redefine constants\n",
       "        city = \"Anishiapolis\";\n",
       "\n",
       "        // Message variable not required\n",
       "        let message = name + \" is \" + age + \" years old, lives in \" + city + \", and likes \" + hobby + \".\" \n",
       "        document.getElementById(\"output1\").innerText = message;\n",
       "        console.log(message);\n",
       "\n",
       "        // Step 7: say data types\n",
       "        let typesMessage = \"name is a \" + typeof name + \", age is a \" + typeof age + \", city is a \" + typeof city + \", and hobby is a \" + typeof hobby + \".\";\n",
       "        document.getElementById(\"output1\").innerText += \"\\n\" + typesMessage;\n",
       "        console.log(typesMessage);\n",
       "    })();\n",
       "  </script>\n",
       "</body>\n",
       "</html>\n"
      ],
      "text/plain": [
       "<IPython.core.display.HTML object>"
      ]
     },
     "metadata": {},
     "output_type": "display_data"
    }
   ],
   "source": [
    "%%html\n",
    "\n",
    "<html>\n",
    "<body>\n",
    "  <h2>Popcorn Hack 1 Output</h2>\n",
    "  <div id=\"output1\"></div>\n",
    "\n",
    "  <script>\n",
    "    (() => {\n",
    "\n",
    "        let name = \"Alex\";\n",
    "        const age = 25;\n",
    "\n",
    "        // In practice, you shouldn't use var. This is just for the purposes of teaching :)\n",
    "        var city = \"New York\"; \n",
    "        let hobby = \"painting\";\n",
    "\n",
    "        // Change vars here\n",
    "        name = \"Bessie\";\n",
    "        //age = 2;   // Uncommenting this line raised an ERROR as you can't redefine constants\n",
    "        city = \"Anishiapolis\";\n",
    "\n",
    "        // Message variable not required\n",
    "        let message = name + \" is \" + age + \" years old, lives in \" + city + \", and likes \" + hobby + \".\" \n",
    "        document.getElementById(\"output1\").innerText = message;\n",
    "        console.log(message);\n",
    "\n",
    "        // Step 7: say data types\n",
    "        let typesMessage = \"name is a \" + typeof name + \", age is a \" + typeof age + \", city is a \" + typeof city + \", and hobby is a \" + typeof hobby + \".\";\n",
    "        document.getElementById(\"output1\").innerText += \"\\n\" + typesMessage;\n",
    "        console.log(typesMessage);\n",
    "    })();\n",
    "  </script>\n",
    "</body>\n",
    "</html>"
   ]
  },
  {
   "cell_type": "markdown",
   "id": "49cf877c",
   "metadata": {},
   "source": [
    "<style>\n",
    ".glowing-text {\n",
    "  color: #fff; /* Set the text color to white or a light color for better contrast */\n",
    "  text-shadow: 0 0 10px #8a2be2, /* Purple glow */\n",
    "               0 0 20px #8a2be2, /* Deeper purple glow */\n",
    "               0 0 30px #4169e1, /* Blue glow */\n",
    "               0 0 40px #4169e1; /* Deeper blue glow */\n",
    "\n",
    "  font-weight: bold;\n",
    "  margin-top: 0;\n",
    "}\n",
    "</style>\n",
    "\n",
    "Presented by the\n",
    "<h4 class=\"glowing-text\">TINKERERS</h4>\n",
    "\n",
    "<hr>\n",
    "\n",
    "# <div style=\"font-weight:bold; text-decoration:underline;\">Popcorn Hack 2 SOLUTIONS🍿😈</div>"
   ]
  },
  {
   "cell_type": "code",
   "execution_count": null,
   "id": "a6c119d1",
   "metadata": {
    "vscode": {
     "languageId": "html"
    }
   },
   "outputs": [
    {
     "data": {
      "text/html": [
       "\n",
       "<html>\n",
       "<body>\n",
       "\n",
       "    <p>Solution: Click the button to enter your magic number!</p>\n",
       "\n",
       "    <input type=\"number\" id=\"magicInput\" placeholder=\"Enter magic number\">\n",
       "    <button id=\"magicButton\">Calculate</button>\n",
       "\n",
       "    <div id=\"output2\">Your results will appear here.</div>\n",
       "\n",
       "    <script>\n",
       "    (() => {\n",
       "\n",
       "    const button = document.getElementById(\"magicButton\");\n",
       "    const input = document.getElementById(\"magicInput\");\n",
       "\n",
       "    button.addEventListener(\"click\", () => {\n",
       "        // ^^ DO NOT MODIFY ANY ABOVE CODE ^^\n",
       "\n",
       "        // Convert the input to a number using Number()\n",
       "        magicNumber = Number(input.value); \n",
       "\n",
       "        // Calculate doubled, squared, and tripled\n",
       "        let doubled = magicNumber * 2;\n",
       "        let squared = magicNumber * magicNumber;\n",
       "        let tripled = magicNumber * 3;\n",
       "\n",
       "        // Display results in the DOM and console\n",
       "        let message = \"Doubled: \" + doubled + \", Squared: \" + squared + \", Tripled: \" + tripled\n",
       "\n",
       "        document.getElementById(\"output2\").innerText = message;\n",
       "        console.log(message);\n",
       "\n",
       "    // vv DO NOT MODIFY ANY BELOW CODE vv\n",
       "    });\n",
       "\n",
       "    })();\n",
       "\n",
       "    </script>\n",
       "\n",
       "</body>\n",
       "</html>\n"
      ],
      "text/plain": [
       "<IPython.core.display.HTML object>"
      ]
     },
     "metadata": {},
     "output_type": "display_data"
    }
   ],
   "source": [
    "%%html\n",
    "\n",
    "<html>\n",
    "<body>\n",
    "\n",
    "    <p>Solution: Click the button after entering your magic number!</p>\n",
    "\n",
    "    <input type=\"number\" id=\"magicInput\" placeholder=\"Enter magic number\">\n",
    "    <button id=\"magicButton\">Calculate</button>\n",
    "\n",
    "    <div id=\"output2\">Your results will appear here.</div>\n",
    "\n",
    "    <script>\n",
    "    (() => {\n",
    "\n",
    "    const button = document.getElementById(\"magicButton\");\n",
    "    const input = document.getElementById(\"magicInput\");\n",
    "    const output = document.getElementById(\"output2\");\n",
    "\n",
    "    button.addEventListener(\"click\", () => {\n",
    "        // ^^ DO NOT MODIFY ANY ABOVE CODE ^^\n",
    "\n",
    "        // Set the Magic Number variable to input.value\n",
    "        let magicNumber = input.value\n",
    "\n",
    "        // Convert the input to a number using Number()\n",
    "        magicNumber = Number(input.value); \n",
    "\n",
    "        // Calculate doubled, squared, and tripled\n",
    "        let doubled = magicNumber * 2;\n",
    "        let squared = magicNumber * magicNumber;\n",
    "        let tripled = magicNumber * 3;\n",
    "\n",
    "        // Display results in the DOM and console\n",
    "        let message = \"Doubled: \" + doubled + \", Squared: \" + squared + \", Tripled: \" + tripled\n",
    "\n",
    "        output.innerText = message;\n",
    "        console.log(message);\n",
    "\n",
    "    // vv DO NOT MODIFY ANY BELOW CODE vv\n",
    "    });\n",
    "\n",
    "    })();\n",
    "\n",
    "    </script>\n",
    "\n",
    "</body>\n",
    "</html>"
   ]
  }
 ],
 "metadata": {
  "kernelspec": {
   "display_name": "Python 3",
   "language": "python",
   "name": "python3"
  },
  "language_info": {
   "codemirror_mode": {
    "name": "ipython",
    "version": 3
   },
   "file_extension": ".py",
   "mimetype": "text/x-python",
   "name": "python",
   "nbconvert_exporter": "python",
   "pygments_lexer": "ipython3",
   "version": "3.12.6"
  }
 },
 "nbformat": 4,
 "nbformat_minor": 5
}
