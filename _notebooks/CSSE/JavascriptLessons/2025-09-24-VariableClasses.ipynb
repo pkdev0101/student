{
 "cells": [
  {
   "cell_type": "code",
   "execution_count": null,
   "id": "e90135fa",
   "metadata": {
    "vscode": {
     "languageId": "plaintext"
    }
   },
   "outputs": [],
   "source": [
    "---\n",
    "toc: True\n",
    "layout: post\n",
    "data: tools\n",
    "title: Varclasses\n",
    "description: Teaching Variables and Classes\n",
    "permalink: /tools/VarClass\n",
    "breadcrumb: True\n",
    "---"
   ]
  },
  {
   "cell_type": "markdown",
   "id": "2aecdb51",
   "metadata": {},
   "source": [
    "## Definition And Explanation\n"
   ]
  },
  {
   "cell_type": "markdown",
   "id": "7d58f4f3",
   "metadata": {},
   "source": [
    "In coding, classes and variables are two very important things in your coding journey. A class is very similar to a blueprint; it defines what an object should do and how it should do it. For example, if you were to create a class named “Car”, that class isn’t just a car. It can have details like the color of the car, what brand the car is, the top speed of the car, and many more ideas. \n",
    "On the other hand, we have variables. These are used to store information. These can be numbers, words, or even objects created from classes. You can think of variables as of a container that holds a piece of data. When you combine these two, they both make your code more organized and easier to understand. \n",
    "\tNow, although they sound similar, they are actually different. A variable is just a single container that holds one piece of data you want. A class, on the other hand, is much bigger, as I said before, it’s just like a blueprint that can contain lots of variables and functions, but this time they are all grouped together. Instead of just holding one value like a variable, a class can describe a whole thing with multiple different variables. What this does is it makes your code a lot more organized, simple, convenient, and user-friendly.\n"
   ]
  },
  {
   "cell_type": "markdown",
   "id": "4c58b45b",
   "metadata": {},
   "source": [
    "Example of Code that shows Variables from Snake.md.I will explain the code as we go on\n"
   ]
  },
  {
   "cell_type": "markdown",
   "id": "c0cf91a5",
   "metadata": {},
   "source": [
    "Heres the Entire code to look from"
   ]
  },
  {
   "cell_type": "code",
   "execution_count": null,
   "id": "ed4c007b",
   "metadata": {
    "vscode": {
     "languageId": "plaintext"
    }
   },
   "outputs": [],
   "source": [
    "// Example: Only code related to variables and classes from the Snake game\n",
    "let score; // variable to keep track of the score\n",
    "score = 0; // initialize score\n",
    "let food = {x: 0, y: 0}; // object variable for food position\n",
    "food.x = Math.floor(Math.random() * ((canvas.width / BLOCK) - 1));\n",
    "food.y = Math.floor(Math.random() * ((canvas.height / BLOCK) - 1));\n",
    "// Example of a class (not in original Snake, but as an example)\n",
    "class Snake {\n",
    "    constructor() {\n",
    "        this.body = [{x: 0, y: 15}];   // starting position of snake\n",
    "        this.direction = 1;            // 1 = right\n",
    "        this.nextDirection = 1;        // planned next move\n",
    "    }\n",
    "}"
   ]
  },
  {
   "cell_type": "code",
   "execution_count": null,
   "id": "3064bb9a",
   "metadata": {
    "vscode": {
     "languageId": "plaintext"
    }
   },
   "outputs": [],
   "source": [
    "let score;"
   ]
  },
  {
   "cell_type": "markdown",
   "id": "fb7a0257",
   "metadata": {},
   "source": [
    "### Why is this a variable?"
   ]
  },
  {
   "cell_type": "markdown",
   "id": "68f02bdd",
   "metadata": {},
   "source": [
    "- Let is used to declare a variable in JavaScript.\n",
    "\n",
    "- Score is the variable’s name.\n",
    "\n",
    "- At first, it has no value. Later in the game, it gets updated. When you start a new game, the code sets it to 0"
   ]
  },
  {
   "cell_type": "code",
   "execution_count": null,
   "id": "e3c358bb",
   "metadata": {
    "vscode": {
     "languageId": "plaintext"
    }
   },
   "outputs": [],
   "source": [
    "score = 0;"
   ]
  },
  {
   "cell_type": "markdown",
   "id": "67883185",
   "metadata": {},
   "source": [
    "And every time the snake eats food, it increases:\n"
   ]
  },
  {
   "cell_type": "code",
   "execution_count": null,
   "id": "65ffa3bd",
   "metadata": {
    "vscode": {
     "languageId": "plaintext"
    }
   },
   "outputs": [],
   "source": [
    "altScore(++score);"
   ]
  },
  {
   "cell_type": "markdown",
   "id": "5d4861a2",
   "metadata": {},
   "source": [
    "The **score** is a variable that keeps track of the player’s points while playing the game.\n"
   ]
  },
  {
   "cell_type": "markdown",
   "id": "6aa35b39",
   "metadata": {},
   "source": [
    "Let's go over a Little Harder Example of Variables in Snake.md from your repo"
   ]
  },
  {
   "cell_type": "markdown",
   "id": "1cd3ef8f",
   "metadata": {},
   "source": [
    "Let's start with the Var Food"
   ]
  },
  {
   "cell_type": "code",
   "execution_count": null,
   "id": "b00b884a",
   "metadata": {
    "vscode": {
     "languageId": "plaintext"
    }
   },
   "outputs": [],
   "source": [
    "let food = {x: 0, y: 0};"
   ]
  },
  {
   "cell_type": "markdown",
   "id": "a18477e8",
   "metadata": {},
   "source": [
    "## Why is this a “big” example?"
   ]
  },
  {
   "cell_type": "markdown",
   "id": "c17c548d",
   "metadata": {},
   "source": [
    "- Instead of just storing one thing (like a number), food is an object variable\n",
    "- It has two properties inside it, which are different from the one\n",
    "- ** X ** the horizontal position of the food on the game board\n",
    "- ** y ** the vertical position of the food on the game board.\n"
   ]
  },
  {
   "cell_type": "markdown",
   "id": "54ee2de9",
   "metadata": {},
   "source": [
    "Randomly Made Spawns\n"
   ]
  },
  {
   "cell_type": "code",
   "execution_count": null,
   "id": "1eb3147f",
   "metadata": {
    "vscode": {
     "languageId": "plaintext"
    }
   },
   "outputs": [],
   "source": [
    "food.x = Math.floor(Math.random() * ((canvas.width / BLOCK) - 1));\n",
    "food.y = Math.floor(Math.random() * ((canvas.height / BLOCK) - 1));"
   ]
  },
  {
   "cell_type": "markdown",
   "id": "ce4b483f",
   "metadata": {},
   "source": [
    "Now its your job to try to find the rest and figure it out"
   ]
  },
  {
   "cell_type": "markdown",
   "id": "72352892",
   "metadata": {},
   "source": [
    "# Example Of Classes in Snake MD File\n"
   ]
  },
  {
   "cell_type": "markdown",
   "id": "1b37f9e6",
   "metadata": {},
   "source": [
    "Now, Classes aren't actually part of our Snake MD, so we made a small example of how it would look in the file\n"
   ]
  },
  {
   "cell_type": "code",
   "execution_count": null,
   "id": "28b88d02",
   "metadata": {
    "vscode": {
     "languageId": "plaintext"
    }
   },
   "outputs": [],
   "source": [
    "class Snake {\n",
    "    constructor() {\n",
    "        this.body = [{x: 0, y: 15}];   // starting position of snake\n",
    "        this.direction = 1;            // 1 = right\n",
    "        this.nextDirection = 1;        // planned next move\n",
    "    }\n",
    "}"
   ]
  },
  {
   "cell_type": "markdown",
   "id": "edb58a48",
   "metadata": {},
   "source": [
    "### Explanation (in simple words)"
   ]
  },
  {
   "cell_type": "markdown",
   "id": "a411139b",
   "metadata": {},
   "source": [
    "- class Snake { ... } → This is the blueprint for the snake.\n",
    "\n",
    "\n",
    "- constructor() → This special function runs when you create a new snake (new Snake()).\n",
    "\n",
    "\n",
    "- this.body → Stores the snake’s body (as an array of blocks). At the start, it’s just one block at {x: 0, y: 15}.\n",
    "\n",
    "\n",
    "- this.direction → Keeps track of which way the snake is currently moving. (1 = right).\n",
    "\n",
    "\n",
    "- this.nextDirection → Stores the next direction the snake will move (helps with arrow key input).\n"
   ]
  },
  {
   "cell_type": "markdown",
   "id": "12325025",
   "metadata": {},
   "source": [
    "## POPCORN HACK 1 A short program about variables\n"
   ]
  },
  {
   "cell_type": "code",
   "execution_count": null,
   "id": "cd165c29",
   "metadata": {
    "vscode": {
     "languageId": "plaintext"
    }
   },
   "outputs": [],
   "source": [
    "// Step 1: Make some variables\n",
    "let name = \"Sam\";\n",
    "let age = 10;\n",
    "\n",
    "// Step 2: Print a message\n",
    "console.log(\"Hi, my name is\", name);\n",
    "console.log(\"I am\", age, \"years old.\");\n",
    "\n",
    "// Step 3: Unfinished part\n",
    "// TODO: Make a new variable called \"nextYearAge\"\n",
    "// that is the age plus 1\n",
    "\n",
    "// let nextYearAge = ???   // <-- finish this line!\n",
    "\n",
    "// TODO: Print out the result\n",
    "// Example: \"Next year I will be 11 years old.\"\n",
    "// console.log( ??? )   // <-- finish this line!\n",
    "\n"
   ]
  },
  {
   "cell_type": "markdown",
   "id": "8b9b8297",
   "metadata": {},
   "source": [
    "## POPCORN HACK 2 A short program about classes\n"
   ]
  },
  {
   "cell_type": "code",
   "execution_count": null,
   "id": "90501500",
   "metadata": {
    "vscode": {
     "languageId": "plaintext"
    }
   },
   "outputs": [],
   "source": [
    "// Step 1: Define the Animal class\n",
    "class Animal {\n",
    "  // Initialize each animal with a name, sound, and type\n",
    "  constructor(name, sound, kind) {\n",
    "    this.name = name;\n",
    "    this.sound = sound;\n",
    "    this.kind = kind;\n",
    "  }\n",
    "\n",
    "  // Make the animal speak\n",
    "  speak() {\n",
    "    console.log(`${this.name} the ${this.kind} says ${this.sound}!`);\n",
    "  }\n",
    "\n",
    "  // Bonus method: describe the animal\n",
    "  describe() {\n",
    "    console.log(`${this.name} is a ${this.kind} and is very friendly!`);\n",
    "  }\n",
    "}\n",
    "\n",
    "// Step 2: Create a list to hold all the animals in the zoo\n",
    "let zoo = [];\n",
    "\n",
    "// Step 3: Add animals to the zoo\n",
    "// TODO: Create at least 3 animals and push them into the zoo array\n",
    "// Example:\n",
    "zoo.push(new Animal(\"Buddy\", \"Woof\", \"Dog\"));\n",
    "zoo.push(new Animal(\"Mittens\", \"Meow\", \"Cat\"));\n",
    "zoo.push(new Animal(\"Polly\", \"Squawk\", \"Parrot\"));\n",
    "\n",
    "// Step 4: Loop through all animals and make them speak\n",
    "// TODO: Use a for loop (or forEach) to call speak() on each animal\n",
    "zoo.forEach(animal => {\n",
    "  animal.speak();\n",
    "  // Step 5: Optional bonus: Call describe() too\n",
    "  animal.describe();\n",
    "});\n",
    "\n",
    "// Step 5 Bonus: Let the user add a new animal (works in browser)\n",
    "// Uncomment if running in browser with prompt()\n",
    "// let name = prompt(\"Enter the animal's name:\");\n",
    "// let sound = prompt(\"Enter the sound it makes:\");\n",
    "// let kind = prompt(\"Enter the kind of animal:\");\n",
    "// let newAnimal = new Animal(name, sound, kind);\n",
    "// zoo.push(newAnimal);\n",
    "// newAnimal.speak();\n",
    "// newAnimal.describe();\n",
    "\n"
   ]
  },
  {
   "cell_type": "markdown",
   "id": "efc35c8b",
   "metadata": {},
   "source": [
    "## Homework"
   ]
  },
  {
   "cell_type": "code",
   "execution_count": null,
   "id": "c47afda8",
   "metadata": {
    "vscode": {
     "languageId": "plaintext"
    }
   },
   "outputs": [],
   "source": [
    "// Step 1: Make a list of choices\n",
    "const choices = [\"rock\", \"paper\", \"scissors\"];\n",
    "\n",
    "// Step 2: Ask the user for their choice (browser version with prompt)\n",
    "let userChoice = prompt(\"Choose rock, paper, or scissors:\").toLowerCase();\n",
    "\n",
    "// Step 3: Computer picks a random choice\n",
    "const computerChoice = choices[Math.floor(Math.random() * choices.length)];\n",
    "console.log(\"Computer chose:\", computerChoice);\n",
    "\n",
    "// Step 4: Compare userChoice and computerChoice\n",
    "if (userChoice === computerChoice) {\n",
    "  console.log(\"It's a tie!\");\n",
    "} else if (userChoice === \"rock\" && computerChoice === \"scissors\") {\n",
    "  console.log(\"You win!\");\n",
    "} else if (userChoice === \"scissors\" && computerChoice === \"paper\") {\n",
    "  console.log(\"You win!\");\n",
    "} else if (userChoice === \"paper\" && computerChoice === \"rock\") {\n",
    "  console.log(\"You win!\");\n",
    "} else {\n",
    "  console.log(\"You lose!\");\n",
    "}\n",
    "\n",
    "// Bonus: Put the whole game in a loop\n",
    "// Uncomment to play multiple rounds in browser\n",
    "/*\n",
    "while (true) {\n",
    "  let userChoice = prompt(\"Choose rock, paper, or scissors”)\n"
   ]
  },
  {
   "cell_type": "markdown",
   "id": "b0c99301",
   "metadata": {},
   "source": [
    "## Sumbmission!"
   ]
  },
  {
   "cell_type": "markdown",
   "id": "2c838d30",
   "metadata": {},
   "source": [
    "https://forms.gle/2aPP6CXFdQnNaE7GA"
   ]
  }
 ],
 "metadata": {
  "language_info": {
   "name": "python"
  }
 },
 "nbformat": 4,
 "nbformat_minor": 5
}
