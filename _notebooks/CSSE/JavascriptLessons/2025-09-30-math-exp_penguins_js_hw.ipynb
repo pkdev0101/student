{
 "cells": [
  {
   "cell_type": "raw",
   "id": "96d9c6da",
   "metadata": {
    "vscode": {
     "languageId": "raw"
    }
   },
   "source": [
    "---\n",
    "layout: post\n",
    "title: Penguins - Mathematical Expressions Homework\n",
    "categories: ['JavaScript']\n",
    "permalink: /javascript/math/penguins-hw\n",
    "---"
   ]
  },
  {
   "cell_type": "markdown",
   "id": "9dd3192a",
   "metadata": {
    "vscode": {
     "languageId": "plaintext"
    }
   },
   "source": [
    "# Penguins JS Lessons\n",
    "\n",
    "<a href=\"https://github.com/Comp-Sci-Team/js-lesson_pages/blob/main/_notebooks/CSSE/JavaScriptLessons/Mathematic_Expressions/2025-09-30-penguins-math-exp-hw.ipynb\" download><b>Download Homework</b></a> <br/>\n",
    "<a href=\"https://docs.google.com/forms/d/e/1FAIpQLSfwgZR0QYAg_uYuZ7XqqEm-xlU0-gZFE2dtgnKEe5kH7Yp0Vg/viewform?usp=dialog\"><b>Submission Google Form for Homework</b></a>\n",
    "\n",
    "## **Mathematical Expressions Homework**\n",
    "In order to learn this subject of programming well, you have to practice:\n",
    "\n",
    "> Popcorn hack 1: operations with variables\n",
    "\n",
    "> Popcorn hack 2: Make 2 variables `x`, and `y`. Compute 3 different operations and log it into the console with console.log();\n",
    "\n",
    "> Final Task: Build a system of functions that represent different mathematical expressions. Each of these functions will perform a different mathematical operation(ex: add, subtract). Make at least 5 of these different functions. \n",
    "\n",
    "---"
   ]
  },
  {
   "cell_type": "markdown",
   "id": "15bf7fb3",
   "metadata": {},
   "source": [
    "## <b>Popcorn Hack 1 (Progress Check)</b>\n",
    "\n",
    "<b>Part 1:</b><br/>\n",
    "In the javascript node below, make 2 variables, `num1` set to 6 and `num2` set to 3, then write the equation `(num1 * num2) + (num1 / 2)`.\n",
    "\n",
    "The output should be 21.<br/>\n",
    "<br/>\n",
    "<b>Part 2:</b><br/>\n",
    "Next, keeping the same variables, add a new variable called `total` that is equal to the equation `num1 / num2 + 2 ** 3`, and this time make the equation<br/><br/> `(total + 15) - numb1 ** 2 / 4` <br/><br/>\n",
    "\n",
    "Write this code below:"
   ]
  },
  {
   "cell_type": "code",
   "execution_count": 6,
   "id": "529d98c6",
   "metadata": {
    "vscode": {
     "languageId": "javascript"
    }
   },
   "outputs": [
    {
     "data": {
      "text/html": [
       "<html>\n",
       "<body>\n",
       "  <h2>Popcorn Hack 1 Output</h2>\n",
       "  <div id=\"output1\"></div>\n",
       "\n",
       "  <script>\n",
       "  (() => {\n",
       "    let num1 = 6;\n",
       "    let num2 = 3;\n",
       "    let part1 = (num1 * num2) + (num1 / 2);\n",
       "    console.log(\"Part 1 Output:\", part1); \n",
       "\n",
       "    let total = num1 / num2 + 2 ** 3;\n",
       "    let part2 = (total + 15) - num1 ** 2 / 4;\n",
       "    console.log(\"Part 2 Output:\", part2); \n",
       "\n",
       "    document.getElementById(\"output1\").innerText =\n",
       "      \"Part 1 Result: \" + part1 + \"\\n\" +\n",
       "      \"Part 2 Result: \" + part2;\n",
       "  })();\n",
       "  </script>\n",
       "</body>\n",
       "</html>\n"
      ],
      "text/plain": [
       "<IPython.core.display.HTML object>"
      ]
     },
     "metadata": {},
     "output_type": "display_data"
    }
   ],
   "source": [
    "%%html\n",
    "<html>\n",
    "<body>\n",
    "  <h2>Popcorn Hack 1 Output</h2>\n",
    "  <div id=\"output1\"></div>\n",
    "\n",
    "  <script>\n",
    "  (() => {\n",
    "    let num1 = 6;\n",
    "    let num2 = 3;\n",
    "    let part1 = (num1 * num2) + (num1 / 2);\n",
    "    console.log(\"Part 1 Output:\", part1); \n",
    "\n",
    "    let total = num1 / num2 + 2 ** 3;\n",
    "    let part2 = (total + 15) - num1 ** 2 / 4;\n",
    "    console.log(\"Part 2 Output:\", part2); \n",
    "\n",
    "    document.getElementById(\"output1\").innerText =\n",
    "      \"Part 1 Result: \" + part1 + \"\\n\" +\n",
    "      \"Part 2 Result: \" + part2;\n",
    "  })();\n",
    "  </script>\n",
    "</body>\n",
    "</html>\n"
   ]
  },
  {
   "cell_type": "markdown",
   "id": "83533354",
   "metadata": {},
   "source": [
    "---\n",
    "\n",
    "## Popcorn Hack 2 (Progress check):\n",
    "\n",
    "Create 2 variables `x` and `y`. With the output area below, provide 3 different operators used with the 2 variables<br/>(`ex: let sum = x + y;`)<br/> and fill in the output with a sentence that provides all three operators and their respective answer."
   ]
  },
  {
   "cell_type": "code",
   "execution_count": 9,
   "id": "c26ad088",
   "metadata": {
    "vscode": {
     "languageId": "html"
    }
   },
   "outputs": [
    {
     "data": {
      "text/html": [
       "<html>\n",
       "<body>\n",
       "  <h2>Popcorn Hack 2 Output</h2>\n",
       "  <div id=\"output2\"></div>\n",
       "\n",
       "  <script>\n",
       "  (() => {\n",
       "\n",
       "    let x = 10;\n",
       "    let y = 4;\n",
       "\n",
       "\n",
       "    let sum = x + y;         \n",
       "    let product = x * y;     \n",
       "    let remainder = x % y;   \n",
       "\n",
       "\n",
       "    console.log(\"x + y =\", sum);\n",
       "    console.log(\"x * y =\", product);\n",
       "    console.log(\"x % y =\", remainder);\n",
       "\n",
       "\n",
       "    document.getElementById(\"output2\").innerText =\n",
       "      \"x + y = \" + sum + \"\\n\" +\n",
       "      \"x * y = \" + product + \"\\n\" +\n",
       "      \"x % y = \" + remainder;\n",
       "  })();\n",
       "  </script>\n",
       "</body>\n",
       "</html>\n"
      ],
      "text/plain": [
       "<IPython.core.display.HTML object>"
      ]
     },
     "metadata": {},
     "output_type": "display_data"
    }
   ],
   "source": [
    "%%html\n",
    "<html>\n",
    "<body>\n",
    "  <h2>Popcorn Hack 2 Output</h2>\n",
    "  <div id=\"output2\"></div>\n",
    "\n",
    "  <script>\n",
    "  (() => {\n",
    "    \n",
    "    let x = 10;\n",
    "    let y = 4;\n",
    "\n",
    "    \n",
    "    let sum = x + y;         \n",
    "    let product = x * y;     \n",
    "    let remainder = x % y;   \n",
    "\n",
    "    \n",
    "    console.log(\"x + y =\", sum);\n",
    "    console.log(\"x * y =\", product);\n",
    "    console.log(\"x % y =\", remainder);\n",
    "\n",
    "    \n",
    "    document.getElementById(\"output2\").innerText =\n",
    "      \"x + y = \" + sum + \"\\n\" +\n",
    "      \"x * y = \" + product + \"\\n\" +\n",
    "      \"x % y = \" + remainder;\n",
    "  })();\n",
    "  </script>\n",
    "</body>\n",
    "</html>\n"
   ]
  },
  {
   "cell_type": "markdown",
   "id": "221d4674",
   "metadata": {},
   "source": [
    "---\n",
    "\n",
    "## Final Task:\n",
    "\n",
    "1. Make 5 different functions, each with different operators/expressions:\n",
    "\n",
    "- Addition\n",
    "- Subtraction\n",
    "- Multiplication\n",
    "- Exponential\n",
    "- Modulus\n",
    "\n",
    "2. Be able to use the functions as well as <code>document.getElementById</code> to make the buttons output the result.\n",
    "\n",
    "3. Have fun! Mess around with different variables with different values, and maybe see if you can make any complex equations like the ones you're learning in your math class. The end objective is for you to be able to use and understand math expressions.\n",
    "\n",
    "\n",
    "### Example function:\n",
    "\n",
    "```\n",
    "function add(a, b)\n",
    "{\n",
    "\treturn a + b;\n",
    "}\n",
    "```\n",
    "\n",
    "### Some ideas you can use:\n",
    "- Multiply Function\n",
    "- Square root function\n",
    "- Cube root function\n",
    "\n",
    "---\n"
   ]
  },
  {
   "cell_type": "markdown",
   "id": "03f3fc78",
   "metadata": {
    "vscode": {
     "languageId": "html"
    }
   },
   "source": [
    "Now that you have seen the example, you will start writing your custom functions in the html code block below: <br>\n",
    "<u> Make sure to follow each comment on where to write your code, don't modify any existing code. </u>\n",
    "<br><br>"
   ]
  },
  {
   "cell_type": "code",
   "execution_count": 15,
   "id": "a1af04c7",
   "metadata": {
    "vscode": {
     "languageId": "html"
    }
   },
   "outputs": [
    {
     "data": {
      "text/html": [
       "\n",
       "<h2>Function outputs:</h2>\n",
       "\n",
       "<button type=\"button\" onclick=\"AddNumbers(14,21)\">Function Output 1: Addition</button>\n",
       "<div id=\"functionOutput1\"></div>\n",
       "<br>\n",
       "\n",
       "<button type=\"button\" onclick=\"SubtractNumbers(50,18)\">Function Output 2: Subtraction</button>\n",
       "<div id=\"functionOutput2\"></div>\n",
       "<br>\n",
       "\n",
       "<button type=\"button\" onclick=\"MultiplyNumbers(6,7)\">Function Output 3: Multiplication</button>\n",
       "<div id=\"functionOutput3\"></div>\n",
       "<br>\n",
       "\n",
       "<button type=\"button\" onclick=\"DivideNumbers(84,7)\">Function Output 4: Division</button>\n",
       "<div id=\"functionOutput4\"></div>\n",
       "<br>\n",
       "\n",
       "<button type=\"button\" onclick=\"FindGCF(24,36)\">Function Output 5: GCF</button>\n",
       "<div id=\"functionOutput5\"></div>\n",
       "<br>\n",
       "\n",
       "<button type=\"button\" onclick=\"FindLCM(8,12)\">Function Output 6: LCM</button>\n",
       "<div id=\"functionOutput6\"></div>\n",
       "<br>\n",
       "\n",
       "<button type=\"button\" onclick=\"MixOperations(14,7,5)\">Function Output 7: Mix</button>\n",
       "<div id=\"functionOutput7\"></div>\n",
       "<br>\n",
       "\n",
       "<script>\n",
       "    function AddNumbers(a,b) {\n",
       "        let result = a + b;\n",
       "        document.getElementById(\"functionOutput1\").innerText = result;\n",
       "    }\n",
       "\n",
       "    function SubtractNumbers(a,b) {\n",
       "        let result = a - b;\n",
       "        document.getElementById(\"functionOutput2\").innerText = result;\n",
       "    }\n",
       "\n",
       "    function MultiplyNumbers(a,b) {\n",
       "        let result = a * b;\n",
       "        document.getElementById(\"functionOutput3\").innerText = result;\n",
       "    }\n",
       "\n",
       "    function DivideNumbers(a,b) {\n",
       "        let result = a / b;\n",
       "        document.getElementById(\"functionOutput4\").innerText = result;\n",
       "    }\n",
       "\n",
       "    function FindGCF(a,b) {\n",
       "        while(b !== 0){\n",
       "            let temp = b;\n",
       "            b = a % b;\n",
       "            a = temp;\n",
       "        }\n",
       "        document.getElementById(\"functionOutput5\").innerText = a;\n",
       "    }\n",
       "\n",
       "    function FindLCM(a,b) {\n",
       "        let gcf = a, hcf = b;\n",
       "        while(hcf !== 0){\n",
       "            let temp = hcf;\n",
       "            hcf = gcf % hcf;\n",
       "            gcf = temp;\n",
       "        }\n",
       "        let lcm = (14 * 12) / gcf; \n",
       "        document.getElementById(\"functionOutput6\").innerText = lcm;\n",
       "    }\n",
       "\n",
       "    function MixOperations(a,b,c) {\n",
       "        let result = (a + b) * c / 2; \n",
       "        document.getElementById(\"functionOutput7\").innerText = result;\n",
       "    }\n",
       "</script>\n"
      ],
      "text/plain": [
       "<IPython.core.display.HTML object>"
      ]
     },
     "metadata": {},
     "output_type": "display_data"
    }
   ],
   "source": [
    "%%html\n",
    "\n",
    "<h2>Function outputs:</h2>\n",
    "\n",
    "<button type=\"button\" onclick=\"AddNumbers(14,21)\">Function Output 1: Addition</button>\n",
    "<div id=\"functionOutput1\"></div>\n",
    "<br>\n",
    "\n",
    "<button type=\"button\" onclick=\"SubtractNumbers(50,18)\">Function Output 2: Subtraction</button>\n",
    "<div id=\"functionOutput2\"></div>\n",
    "<br>\n",
    "\n",
    "<button type=\"button\" onclick=\"MultiplyNumbers(6,7)\">Function Output 3: Multiplication</button>\n",
    "<div id=\"functionOutput3\"></div>\n",
    "<br>\n",
    "\n",
    "<button type=\"button\" onclick=\"DivideNumbers(84,7)\">Function Output 4: Division</button>\n",
    "<div id=\"functionOutput4\"></div>\n",
    "<br>\n",
    "\n",
    "<button type=\"button\" onclick=\"FindGCF(24,36)\">Function Output 5: GCF</button>\n",
    "<div id=\"functionOutput5\"></div>\n",
    "<br>\n",
    "\n",
    "<button type=\"button\" onclick=\"FindLCM(8,12)\">Function Output 6: LCM</button>\n",
    "<div id=\"functionOutput6\"></div>\n",
    "<br>\n",
    "\n",
    "<button type=\"button\" onclick=\"MixOperations(14,7,5)\">Function Output 7: Mix</button>\n",
    "<div id=\"functionOutput7\"></div>\n",
    "<br>\n",
    "\n",
    "<script>\n",
    "    function AddNumbers(a,b) {\n",
    "        let result = a + b;\n",
    "        document.getElementById(\"functionOutput1\").innerText = result;\n",
    "    }\n",
    "\n",
    "    function SubtractNumbers(a,b) {\n",
    "        let result = a - b;\n",
    "        document.getElementById(\"functionOutput2\").innerText = result;\n",
    "    }\n",
    "\n",
    "    function MultiplyNumbers(a,b) {\n",
    "        let result = a * b;\n",
    "        document.getElementById(\"functionOutput3\").innerText = result;\n",
    "    }\n",
    "\n",
    "    function DivideNumbers(a,b) {\n",
    "        let result = a / b;\n",
    "        document.getElementById(\"functionOutput4\").innerText = result;\n",
    "    }\n",
    "\n",
    "    function FindGCF(a,b) {\n",
    "        while(b !== 0){\n",
    "            let temp = b;\n",
    "            b = a % b;\n",
    "            a = temp;\n",
    "        }\n",
    "        document.getElementById(\"functionOutput5\").innerText = a;\n",
    "    }\n",
    "\n",
    "    function FindLCM(a,b) {\n",
    "        let gcf = a, hcf = b;\n",
    "        while(hcf !== 0){\n",
    "            let temp = hcf;\n",
    "            hcf = gcf % hcf;\n",
    "            gcf = temp;\n",
    "        }\n",
    "        let lcm = (14 * 12) / gcf; \n",
    "        document.getElementById(\"functionOutput6\").innerText = lcm;\n",
    "    }\n",
    "\n",
    "    function MixOperations(a,b,c) {\n",
    "        let result = (a + b) * c / 2; \n",
    "        document.getElementById(\"functionOutput7\").innerText = result;\n",
    "    }\n",
    "</script>\n"
   ]
  },
  {
   "cell_type": "markdown",
   "id": "6c6c906a",
   "metadata": {},
   "source": [
    "---\n",
    "\n",
    "<b>Grading</b>\n",
    "\n",
    "Popcorn Hack 1: Completion gives 0.2 points.<br/><br/>\n",
    "Popcorn Hack 2: Completion gives 0.3 points.<br/><br/>\n",
    "\n",
    "Final Task: Completion gives 0.5 points. Max of 0.02 extra points from extra work relevant to the subject or finishing assignment in a way that shows exceptional comprehension of the lesson.\n",
    "\n",
    "<br>\n",
    "<b><u>Make sure to submit your homework deployed link onto the global homework submission google sheet</u><b>"
   ]
  },
  {
   "cell_type": "markdown",
   "id": "9f94ed4c",
   "metadata": {
    "vscode": {
     "languageId": "html"
    }
   },
   "source": [
    "<a href=\"https://docs.google.com/forms/d/e/1FAIpQLSfwgZR0QYAg_uYuZ7XqqEm-xlU0-gZFE2dtgnKEe5kH7Yp0Vg/viewform?usp=dialog\"><b>Submission Google Form for Homework</b></a>"
   ]
  }
 ],
 "metadata": {
  "kernelspec": {
   "display_name": "venv",
   "language": "python",
   "name": "python3"
  },
  "language_info": {
   "codemirror_mode": {
    "name": "ipython",
    "version": 3
   },
   "file_extension": ".py",
   "mimetype": "text/x-python",
   "name": "python",
   "nbconvert_exporter": "python",
   "pygments_lexer": "ipython3",
   "version": "3.13.7"
  }
 },
 "nbformat": 4,
 "nbformat_minor": 5
}
