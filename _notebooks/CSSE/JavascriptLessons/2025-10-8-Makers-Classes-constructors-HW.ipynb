{
 "cells": [
  {
   "cell_type": "markdown",
   "id": "677177ac",
   "metadata": {},
   "source": []
  },
  {
   "cell_type": "raw",
   "id": "f46d5103",
   "metadata": {
    "vscode": {
     "languageId": "raw"
    }
   },
   "source": [
    "---\n",
    "layout: post\n",
    "title: Classes and Constructors Homework\n",
    "description:  Classes and Constructors Homework\n",
    "categories: [Javascript, Homework]\n",
    "permalink: /classes-constructors-HW\n",
    "author: Makers\n",
    "---"
   ]
  },
  {
   "cell_type": "markdown",
   "id": "b0f73322",
   "metadata": {},
   "source": [
    "# JavaScript Classes and Constructors Homework\n",
    "By now you should have a decent grasp of classes and constructors, and how to make and build one. The following exercises should help you solidify your understanding of classes and constructors in JavaScript."
   ]
  },
  {
   "cell_type": "markdown",
   "id": "4be7bd0a",
   "metadata": {
    "vscode": {
     "languageId": "javascript"
    }
   },
   "source": [
    "# Popcorn Hack 1\n",
    "1. The class TennisPlayer has been defined for you. Create a constructor with the arguements name, rank, and rankPoints.\n",
    "2. Define a method that ouputs the following to the console: \"Hi my name is <name>, my rank is <rank>, and my rankings points are <rankingsPoints>.\n",
    "3. Call the class with the arguments Novak Djokovic, 1, 16000. \n"
   ]
  },
  {
   "cell_type": "code",
   "execution_count": 1,
   "id": "7399ab93",
   "metadata": {
    "vscode": {
     "languageId": "javascript"
    }
   },
   "outputs": [
    {
     "data": {
      "text/html": [
       "\n",
       "<h2>Output</h2>\n",
       "<div id=\"output\"></div>\n",
       "\n",
       "<script>\n",
       "class TennisPlayer {\n",
       "    constructor(name, rank, rankPoints) {\n",
       "        this.name = name;\n",
       "        this.rank = rank;\n",
       "        this.rankPoints = rankPoints;\n",
       "    }\n",
       "\n",
       "    profile() {\n",
       "        // Output to HTML DOM\n",
       "        document.getElementById(\"output\").innerText =\n",
       "            `Hi my name is ${this.name}, my rank is ${this.rank}, and my ranking points are ${this.rankPoints}.`;\n",
       "    }\n",
       "}\n",
       "\n",
       "// Create an instance of TennisPlayer\n",
       "let player = new TennisPlayer(\"Novak Djokovic\", 1, 16000);\n",
       "\n",
       "// Call the profile method\n",
       "player.profile();\n",
       "</script>\n"
      ],
      "text/plain": [
       "<IPython.core.display.HTML object>"
      ]
     },
     "metadata": {},
     "output_type": "display_data"
    }
   ],
   "source": [
    "%%html\n",
    "\n",
    "<h2>Output</h2>\n",
    "<div id=\"output\"></div>\n",
    "\n",
    "<script>\n",
    "class TennisPlayer {\n",
    "    constructor(name, rank, rankPoints) {\n",
    "        this.name = name;\n",
    "        this.rank = rank;\n",
    "        this.rankPoints = rankPoints;\n",
    "    }\n",
    "\n",
    "    profile() {\n",
    "        // Output to HTML DOM\n",
    "        document.getElementById(\"output\").innerText =\n",
    "            `Hi my name is ${this.name}, my rank is ${this.rank}, and my ranking points are ${this.rankPoints}.`;\n",
    "    }\n",
    "}\n",
    "\n",
    "// Create an instance of TennisPlayer\n",
    "let player = new TennisPlayer(\"Novak Djokovic\", 1, 16000);\n",
    "\n",
    "// Call the profile method\n",
    "player.profile();\n",
    "</script>\n"
   ]
  },
  {
   "cell_type": "markdown",
   "id": "847cedc1",
   "metadata": {},
   "source": [
    "# Popcorn Hack 2\n",
    "\n",
    "1. Create a class called library\n",
    "2. Within library create a class called book with two methods - add book and remove book\n",
    "3. Add another inner class called computers - and have it output the number of computers on\n",
    "\n",
    "Below is the starter code to get you started"
   ]
  },
  {
   "cell_type": "code",
   "execution_count": null,
   "id": "e7bad2b3",
   "metadata": {
    "vscode": {
     "languageId": "javascript"
    }
   },
   "outputs": [],
   "source": [
    "// Step 1: Create the main class called Library\n",
    "class Library {\n",
    "    constructor(name) {\n",
    "        this.name = name;\n",
    "        console.log(`Welcome to the`, this.name, `Library!`);\n",
    "    }\n",
    "\n",
    "    // Step 2: Create an inner class called Book\n",
    "    static Book = class {\n",
    "        constructor() {\n",
    "            this.books = []; // store book titles\n",
    "        }\n",
    "\n",
    "        // TODO: Create a method addBook(title)\n",
    "        // Hint: push the title to this.books and log a message\n",
    "\n",
    "        // TODO: Create a method removeBook(title)\n",
    "        // Hint: remove the book from the array if it exists\n",
    "    }\n",
    "\n",
    "    // Step 3: Create another inner class called Computers\n",
    "    static Computers = class {\n",
    "        constructor(numberOn) {\n",
    "            this.numberOn = numberOn;\n",
    "        }\n",
    "\n",
    "        // TODO: Create a method to show how many computers are currently on\n",
    "    }\n",
    "}\n",
    "\n",
    "// --- Example Usage ---\n",
    "// Uncomment after writing your methods!\n",
    "\n",
    "// const myLibrary = new Library(\"Downtown\");\n",
    "// const bookManager = new Library.Book();\n",
    "// const techRoom = new Library.Computers(8);\n",
    "\n",
    "// bookManager.addBook(\"The Hobbit\");\n",
    "// bookManager.addBook(\"1984\");\n",
    "// bookManager.removeBook(\"The Hobbit\");\n",
    "// techRoom.showComputersOn();\n"
   ]
  },
  {
   "cell_type": "markdown",
   "id": "24d1fadb",
   "metadata": {},
   "source": [
    "# Homework\n",
    "Create and expand the Cookie Clicker project:\n",
    "1. Fill out the cookies and cookiesPerClick variables.\n",
    "2. Define what should happen upon clicking the cookie.\n",
    "3. Create an `Upgrade` class that multiplies cookies per click, and expand the original cookieclicker class to integrate upgardes.\n",
    "5. Print how each upgrade changes the total cookie output.\n",
    "6. Add a cookie type variable which sets the specific type of cookie (ex: Chocolate chip, Oatmeal, etc.)\n",
    "\n",
    "## Extra credit: Up to 0.03 points\n",
    "- Create a new cell, apply the ALL of the above changes to a blank cookie clicker project, and submit that code for the cookie clicker project.\n",
    "The following code is to help you get started."
   ]
  },
  {
   "cell_type": "code",
   "execution_count": null,
   "id": "e9c84d6f",
   "metadata": {
    "vscode": {
     "languageId": "javascript"
    }
   },
   "outputs": [],
   "source": [
    "%%javascript\n",
    "\n",
    "class CookieClicker {\n",
    "  constructor(upgrades = []) {\n",
    "    this.cookies = ____; //start value\n",
    "    this.cookiesPerClick = ____;\n",
    "  }\n",
    "\n",
    "  click() {\n",
    "    // Add code here to increase cookies by cookiesPerClick;\n",
    "  }\n",
    "}\n"
   ]
  }
 ],
 "metadata": {
  "kernelspec": {
   "display_name": "venv",
   "language": "python",
   "name": "python3"
  },
  "language_info": {
   "codemirror_mode": {
    "name": "ipython",
    "version": 3
   },
   "file_extension": ".py",
   "mimetype": "text/x-python",
   "name": "python",
   "nbconvert_exporter": "python",
   "pygments_lexer": "ipython3",
   "version": "3.13.7"
  }
 },
 "nbformat": 4,
 "nbformat_minor": 5
}
